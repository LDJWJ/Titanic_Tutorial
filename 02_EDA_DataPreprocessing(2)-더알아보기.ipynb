{
 "cells": [
  {
   "cell_type": "markdown",
   "metadata": {},
   "source": [
    "## 02. 데이터 전처리 및 EDA - AGE, Sex, Embarked 결측치(비어 있는 값) 처리"
   ]
  },
  {
   "cell_type": "markdown",
   "metadata": {},
   "source": [
    "### 학습 내용\n",
    " * 데이터 확인 및 전처리"
   ]
  },
  {
   "cell_type": "markdown",
   "metadata": {},
   "source": [
    "### 나이와 승선항을 결측치 처리 후, 확인해 보자."
   ]
  },
  {
   "cell_type": "code",
   "execution_count": 1,
   "metadata": {},
   "outputs": [
    {
     "name": "stdout",
     "output_type": "stream",
     "text": [
      "Collecting missingno\n",
      "  Downloading missingno-0.4.2-py3-none-any.whl (9.7 kB)\n",
      "Requirement already satisfied: matplotlib in c:\\programdata\\anaconda3\\lib\\site-packages (from missingno) (3.2.2)\n",
      "Requirement already satisfied: seaborn in c:\\programdata\\anaconda3\\lib\\site-packages (from missingno) (0.10.1)\n",
      "Requirement already satisfied: scipy in c:\\programdata\\anaconda3\\lib\\site-packages (from missingno) (1.5.0)\n",
      "Requirement already satisfied: numpy in c:\\programdata\\anaconda3\\lib\\site-packages (from missingno) (1.18.5)\n",
      "Requirement already satisfied: pyparsing!=2.0.4,!=2.1.2,!=2.1.6,>=2.0.1 in c:\\programdata\\anaconda3\\lib\\site-packages (from matplotlib->missingno) (2.4.7)\n",
      "Requirement already satisfied: kiwisolver>=1.0.1 in c:\\programdata\\anaconda3\\lib\\site-packages (from matplotlib->missingno) (1.2.0)\n",
      "Requirement already satisfied: python-dateutil>=2.1 in c:\\programdata\\anaconda3\\lib\\site-packages (from matplotlib->missingno) (2.8.1)\n",
      "Requirement already satisfied: cycler>=0.10 in c:\\programdata\\anaconda3\\lib\\site-packages (from matplotlib->missingno) (0.10.0)\n",
      "Requirement already satisfied: pandas>=0.22.0 in c:\\programdata\\anaconda3\\lib\\site-packages (from seaborn->missingno) (1.0.5)\n",
      "Requirement already satisfied: six>=1.5 in c:\\programdata\\anaconda3\\lib\\site-packages (from python-dateutil>=2.1->matplotlib->missingno) (1.15.0)\n",
      "Requirement already satisfied: pytz>=2017.2 in c:\\programdata\\anaconda3\\lib\\site-packages (from pandas>=0.22.0->seaborn->missingno) (2020.1)\n",
      "Installing collected packages: missingno\n",
      "Successfully installed missingno-0.4.2\n"
     ]
    }
   ],
   "source": [
    "## 설치가 안되어 있을 경우, 설치 \n",
    "!pip install missingno"
   ]
  },
  {
   "cell_type": "code",
   "execution_count": 2,
   "metadata": {},
   "outputs": [],
   "source": [
    "import pandas as pd\n",
    "import matplotlib.pyplot as plt\n",
    "import seaborn as sns\n",
    "import numpy as np\n",
    "import missingno as msno   # No module named 'missingno' 발생시, 위의 pip install missingno 설치 필요"
   ]
  },
  {
   "cell_type": "markdown",
   "metadata": {},
   "source": [
    "## 01. EDA(탐색적 데이터 탐색)\n",
    " * 데이터에 익숙해 지기\n",
    " * 데이터 자료형에 대해 알아가기\n",
    " * 데이터 컬럼명 알아보기"
   ]
  },
  {
   "cell_type": "code",
   "execution_count": 3,
   "metadata": {},
   "outputs": [],
   "source": [
    "train = pd.read_csv(\"train.csv\")\n",
    "test = pd.read_csv(\"test.csv\")"
   ]
  },
  {
   "cell_type": "code",
   "execution_count": 4,
   "metadata": {},
   "outputs": [
    {
     "name": "stdout",
     "output_type": "stream",
     "text": [
      "(891, 12) (418, 11)\n"
     ]
    }
   ],
   "source": [
    "print(train.shape, test.shape)    # 데이터의 행과열"
   ]
  },
  {
   "cell_type": "code",
   "execution_count": 5,
   "metadata": {},
   "outputs": [
    {
     "data": {
      "text/html": [
       "<div>\n",
       "<style scoped>\n",
       "    .dataframe tbody tr th:only-of-type {\n",
       "        vertical-align: middle;\n",
       "    }\n",
       "\n",
       "    .dataframe tbody tr th {\n",
       "        vertical-align: top;\n",
       "    }\n",
       "\n",
       "    .dataframe thead th {\n",
       "        text-align: right;\n",
       "    }\n",
       "</style>\n",
       "<table border=\"1\" class=\"dataframe\">\n",
       "  <thead>\n",
       "    <tr style=\"text-align: right;\">\n",
       "      <th></th>\n",
       "      <th>PassengerId</th>\n",
       "      <th>Survived</th>\n",
       "      <th>Pclass</th>\n",
       "      <th>Name</th>\n",
       "      <th>Sex</th>\n",
       "      <th>Age</th>\n",
       "      <th>SibSp</th>\n",
       "      <th>Parch</th>\n",
       "      <th>Ticket</th>\n",
       "      <th>Fare</th>\n",
       "      <th>Cabin</th>\n",
       "      <th>Embarked</th>\n",
       "    </tr>\n",
       "  </thead>\n",
       "  <tbody>\n",
       "    <tr>\n",
       "      <th>0</th>\n",
       "      <td>1</td>\n",
       "      <td>0</td>\n",
       "      <td>3</td>\n",
       "      <td>Braund, Mr. Owen Harris</td>\n",
       "      <td>male</td>\n",
       "      <td>22.0</td>\n",
       "      <td>1</td>\n",
       "      <td>0</td>\n",
       "      <td>A/5 21171</td>\n",
       "      <td>7.2500</td>\n",
       "      <td>NaN</td>\n",
       "      <td>S</td>\n",
       "    </tr>\n",
       "    <tr>\n",
       "      <th>1</th>\n",
       "      <td>2</td>\n",
       "      <td>1</td>\n",
       "      <td>1</td>\n",
       "      <td>Cumings, Mrs. John Bradley (Florence Briggs Th...</td>\n",
       "      <td>female</td>\n",
       "      <td>38.0</td>\n",
       "      <td>1</td>\n",
       "      <td>0</td>\n",
       "      <td>PC 17599</td>\n",
       "      <td>71.2833</td>\n",
       "      <td>C85</td>\n",
       "      <td>C</td>\n",
       "    </tr>\n",
       "    <tr>\n",
       "      <th>2</th>\n",
       "      <td>3</td>\n",
       "      <td>1</td>\n",
       "      <td>3</td>\n",
       "      <td>Heikkinen, Miss. Laina</td>\n",
       "      <td>female</td>\n",
       "      <td>26.0</td>\n",
       "      <td>0</td>\n",
       "      <td>0</td>\n",
       "      <td>STON/O2. 3101282</td>\n",
       "      <td>7.9250</td>\n",
       "      <td>NaN</td>\n",
       "      <td>S</td>\n",
       "    </tr>\n",
       "    <tr>\n",
       "      <th>3</th>\n",
       "      <td>4</td>\n",
       "      <td>1</td>\n",
       "      <td>1</td>\n",
       "      <td>Futrelle, Mrs. Jacques Heath (Lily May Peel)</td>\n",
       "      <td>female</td>\n",
       "      <td>35.0</td>\n",
       "      <td>1</td>\n",
       "      <td>0</td>\n",
       "      <td>113803</td>\n",
       "      <td>53.1000</td>\n",
       "      <td>C123</td>\n",
       "      <td>S</td>\n",
       "    </tr>\n",
       "    <tr>\n",
       "      <th>4</th>\n",
       "      <td>5</td>\n",
       "      <td>0</td>\n",
       "      <td>3</td>\n",
       "      <td>Allen, Mr. William Henry</td>\n",
       "      <td>male</td>\n",
       "      <td>35.0</td>\n",
       "      <td>0</td>\n",
       "      <td>0</td>\n",
       "      <td>373450</td>\n",
       "      <td>8.0500</td>\n",
       "      <td>NaN</td>\n",
       "      <td>S</td>\n",
       "    </tr>\n",
       "  </tbody>\n",
       "</table>\n",
       "</div>"
      ],
      "text/plain": [
       "   PassengerId  Survived  Pclass  \\\n",
       "0            1         0       3   \n",
       "1            2         1       1   \n",
       "2            3         1       3   \n",
       "3            4         1       1   \n",
       "4            5         0       3   \n",
       "\n",
       "                                                Name     Sex   Age  SibSp  \\\n",
       "0                            Braund, Mr. Owen Harris    male  22.0      1   \n",
       "1  Cumings, Mrs. John Bradley (Florence Briggs Th...  female  38.0      1   \n",
       "2                             Heikkinen, Miss. Laina  female  26.0      0   \n",
       "3       Futrelle, Mrs. Jacques Heath (Lily May Peel)  female  35.0      1   \n",
       "4                           Allen, Mr. William Henry    male  35.0      0   \n",
       "\n",
       "   Parch            Ticket     Fare Cabin Embarked  \n",
       "0      0         A/5 21171   7.2500   NaN        S  \n",
       "1      0          PC 17599  71.2833   C85        C  \n",
       "2      0  STON/O2. 3101282   7.9250   NaN        S  \n",
       "3      0            113803  53.1000  C123        S  \n",
       "4      0            373450   8.0500   NaN        S  "
      ]
     },
     "execution_count": 5,
     "metadata": {},
     "output_type": "execute_result"
    }
   ],
   "source": [
    "## 데이터 확인\n",
    "train.head()"
   ]
  },
  {
   "cell_type": "code",
   "execution_count": 6,
   "metadata": {},
   "outputs": [
    {
     "name": "stdout",
     "output_type": "stream",
     "text": [
      "column :  PassengerId\n",
      "0    1\n",
      "1    2\n",
      "2    3\n",
      "3    4\n",
      "4    5\n",
      "Name: PassengerId, dtype: int64\n",
      "\n",
      "column :  Survived\n",
      "0    0\n",
      "1    1\n",
      "2    1\n",
      "3    1\n",
      "4    0\n",
      "Name: Survived, dtype: int64\n",
      "\n",
      "column :  Pclass\n",
      "0    3\n",
      "1    1\n",
      "2    3\n",
      "3    1\n",
      "4    3\n",
      "Name: Pclass, dtype: int64\n",
      "\n",
      "column :  Name\n",
      "0                              Braund, Mr. Owen Harris\n",
      "1    Cumings, Mrs. John Bradley (Florence Briggs Th...\n",
      "2                               Heikkinen, Miss. Laina\n",
      "3         Futrelle, Mrs. Jacques Heath (Lily May Peel)\n",
      "4                             Allen, Mr. William Henry\n",
      "Name: Name, dtype: object\n",
      "\n",
      "column :  Sex\n",
      "0      male\n",
      "1    female\n",
      "2    female\n",
      "3    female\n",
      "4      male\n",
      "Name: Sex, dtype: object\n",
      "\n",
      "column :  Age\n",
      "0    22.0\n",
      "1    38.0\n",
      "2    26.0\n",
      "3    35.0\n",
      "4    35.0\n",
      "Name: Age, dtype: float64\n",
      "\n",
      "column :  SibSp\n",
      "0    1\n",
      "1    1\n",
      "2    0\n",
      "3    1\n",
      "4    0\n",
      "Name: SibSp, dtype: int64\n",
      "\n",
      "column :  Parch\n",
      "0    0\n",
      "1    0\n",
      "2    0\n",
      "3    0\n",
      "4    0\n",
      "Name: Parch, dtype: int64\n",
      "\n",
      "column :  Ticket\n",
      "0           A/5 21171\n",
      "1            PC 17599\n",
      "2    STON/O2. 3101282\n",
      "3              113803\n",
      "4              373450\n",
      "Name: Ticket, dtype: object\n",
      "\n",
      "column :  Fare\n",
      "0     7.2500\n",
      "1    71.2833\n",
      "2     7.9250\n",
      "3    53.1000\n",
      "4     8.0500\n",
      "Name: Fare, dtype: float64\n",
      "\n",
      "column :  Cabin\n",
      "0     NaN\n",
      "1     C85\n",
      "2     NaN\n",
      "3    C123\n",
      "4     NaN\n",
      "Name: Cabin, dtype: object\n",
      "\n",
      "column :  Embarked\n",
      "0    S\n",
      "1    C\n",
      "2    S\n",
      "3    S\n",
      "4    S\n",
      "Name: Embarked, dtype: object\n",
      "\n"
     ]
    }
   ],
   "source": [
    "# 만약 전체 열이 확인 안 될 때,\n",
    "for col in train.columns:\n",
    "    print(\"column : \", col)\n",
    "    print(train[col].head()) \n",
    "    print()"
   ]
  },
  {
   "cell_type": "markdown",
   "metadata": {},
   "source": [
    "### 데이터 요약"
   ]
  },
  {
   "cell_type": "code",
   "execution_count": 7,
   "metadata": {},
   "outputs": [
    {
     "data": {
      "text/html": [
       "<div>\n",
       "<style scoped>\n",
       "    .dataframe tbody tr th:only-of-type {\n",
       "        vertical-align: middle;\n",
       "    }\n",
       "\n",
       "    .dataframe tbody tr th {\n",
       "        vertical-align: top;\n",
       "    }\n",
       "\n",
       "    .dataframe thead th {\n",
       "        text-align: right;\n",
       "    }\n",
       "</style>\n",
       "<table border=\"1\" class=\"dataframe\">\n",
       "  <thead>\n",
       "    <tr style=\"text-align: right;\">\n",
       "      <th></th>\n",
       "      <th>PassengerId</th>\n",
       "      <th>Survived</th>\n",
       "      <th>Pclass</th>\n",
       "      <th>Age</th>\n",
       "      <th>SibSp</th>\n",
       "      <th>Parch</th>\n",
       "      <th>Fare</th>\n",
       "    </tr>\n",
       "  </thead>\n",
       "  <tbody>\n",
       "    <tr>\n",
       "      <th>count</th>\n",
       "      <td>891.000000</td>\n",
       "      <td>891.000000</td>\n",
       "      <td>891.000000</td>\n",
       "      <td>714.000000</td>\n",
       "      <td>891.000000</td>\n",
       "      <td>891.000000</td>\n",
       "      <td>891.000000</td>\n",
       "    </tr>\n",
       "    <tr>\n",
       "      <th>mean</th>\n",
       "      <td>446.000000</td>\n",
       "      <td>0.383838</td>\n",
       "      <td>2.308642</td>\n",
       "      <td>29.699118</td>\n",
       "      <td>0.523008</td>\n",
       "      <td>0.381594</td>\n",
       "      <td>32.204208</td>\n",
       "    </tr>\n",
       "    <tr>\n",
       "      <th>std</th>\n",
       "      <td>257.353842</td>\n",
       "      <td>0.486592</td>\n",
       "      <td>0.836071</td>\n",
       "      <td>14.526497</td>\n",
       "      <td>1.102743</td>\n",
       "      <td>0.806057</td>\n",
       "      <td>49.693429</td>\n",
       "    </tr>\n",
       "    <tr>\n",
       "      <th>min</th>\n",
       "      <td>1.000000</td>\n",
       "      <td>0.000000</td>\n",
       "      <td>1.000000</td>\n",
       "      <td>0.420000</td>\n",
       "      <td>0.000000</td>\n",
       "      <td>0.000000</td>\n",
       "      <td>0.000000</td>\n",
       "    </tr>\n",
       "    <tr>\n",
       "      <th>25%</th>\n",
       "      <td>223.500000</td>\n",
       "      <td>0.000000</td>\n",
       "      <td>2.000000</td>\n",
       "      <td>20.125000</td>\n",
       "      <td>0.000000</td>\n",
       "      <td>0.000000</td>\n",
       "      <td>7.910400</td>\n",
       "    </tr>\n",
       "    <tr>\n",
       "      <th>50%</th>\n",
       "      <td>446.000000</td>\n",
       "      <td>0.000000</td>\n",
       "      <td>3.000000</td>\n",
       "      <td>28.000000</td>\n",
       "      <td>0.000000</td>\n",
       "      <td>0.000000</td>\n",
       "      <td>14.454200</td>\n",
       "    </tr>\n",
       "    <tr>\n",
       "      <th>75%</th>\n",
       "      <td>668.500000</td>\n",
       "      <td>1.000000</td>\n",
       "      <td>3.000000</td>\n",
       "      <td>38.000000</td>\n",
       "      <td>1.000000</td>\n",
       "      <td>0.000000</td>\n",
       "      <td>31.000000</td>\n",
       "    </tr>\n",
       "    <tr>\n",
       "      <th>max</th>\n",
       "      <td>891.000000</td>\n",
       "      <td>1.000000</td>\n",
       "      <td>3.000000</td>\n",
       "      <td>80.000000</td>\n",
       "      <td>8.000000</td>\n",
       "      <td>6.000000</td>\n",
       "      <td>512.329200</td>\n",
       "    </tr>\n",
       "  </tbody>\n",
       "</table>\n",
       "</div>"
      ],
      "text/plain": [
       "       PassengerId    Survived      Pclass         Age       SibSp  \\\n",
       "count   891.000000  891.000000  891.000000  714.000000  891.000000   \n",
       "mean    446.000000    0.383838    2.308642   29.699118    0.523008   \n",
       "std     257.353842    0.486592    0.836071   14.526497    1.102743   \n",
       "min       1.000000    0.000000    1.000000    0.420000    0.000000   \n",
       "25%     223.500000    0.000000    2.000000   20.125000    0.000000   \n",
       "50%     446.000000    0.000000    3.000000   28.000000    0.000000   \n",
       "75%     668.500000    1.000000    3.000000   38.000000    1.000000   \n",
       "max     891.000000    1.000000    3.000000   80.000000    8.000000   \n",
       "\n",
       "            Parch        Fare  \n",
       "count  891.000000  891.000000  \n",
       "mean     0.381594   32.204208  \n",
       "std      0.806057   49.693429  \n",
       "min      0.000000    0.000000  \n",
       "25%      0.000000    7.910400  \n",
       "50%      0.000000   14.454200  \n",
       "75%      0.000000   31.000000  \n",
       "max      6.000000  512.329200  "
      ]
     },
     "execution_count": 7,
     "metadata": {},
     "output_type": "execute_result"
    }
   ],
   "source": [
    "train.describe()"
   ]
  },
  {
   "cell_type": "markdown",
   "metadata": {},
   "source": [
    "### 데이터 결측치 확인"
   ]
  },
  {
   "cell_type": "code",
   "execution_count": 8,
   "metadata": {},
   "outputs": [
    {
     "name": "stdout",
     "output_type": "stream",
     "text": [
      "<class 'pandas.core.frame.DataFrame'>\n",
      "RangeIndex: 891 entries, 0 to 890\n",
      "Data columns (total 12 columns):\n",
      " #   Column       Non-Null Count  Dtype  \n",
      "---  ------       --------------  -----  \n",
      " 0   PassengerId  891 non-null    int64  \n",
      " 1   Survived     891 non-null    int64  \n",
      " 2   Pclass       891 non-null    int64  \n",
      " 3   Name         891 non-null    object \n",
      " 4   Sex          891 non-null    object \n",
      " 5   Age          714 non-null    float64\n",
      " 6   SibSp        891 non-null    int64  \n",
      " 7   Parch        891 non-null    int64  \n",
      " 8   Ticket       891 non-null    object \n",
      " 9   Fare         891 non-null    float64\n",
      " 10  Cabin        204 non-null    object \n",
      " 11  Embarked     889 non-null    object \n",
      "dtypes: float64(2), int64(5), object(5)\n",
      "memory usage: 83.7+ KB\n"
     ]
    }
   ],
   "source": [
    "train.info()"
   ]
  },
  {
   "cell_type": "markdown",
   "metadata": {},
   "source": [
    "### 결측치 확인\n",
    " * figsize로 크기 설정\n",
    " * seaborn의 heatmap 이용 결측치 확인 (cbar : colorbar, cmap : 색 지정, yticklabels : y축 유무)"
   ]
  },
  {
   "cell_type": "code",
   "execution_count": 9,
   "metadata": {},
   "outputs": [
    {
     "data": {
      "text/plain": [
       "<matplotlib.axes._subplots.AxesSubplot at 0x2041fe78790>"
      ]
     },
     "execution_count": 9,
     "metadata": {},
     "output_type": "execute_result"
    },
    {
     "data": {
      "image/png": "[encoded data removed]",
      "text/plain": [
       "<Figure size 720x504 with 1 Axes>"
      ]
     },
     "metadata": {
      "needs_background": "light"
     },
     "output_type": "display_data"
    }
   ],
   "source": [
    "plt.figure(figsize=(10,7))\n",
    "sns.heatmap(train.isnull(), yticklabels=False, cbar=False, cmap=\"GnBu\")  # cbar : colorbar를 그리지 않음."
   ]
  },
  {
   "cell_type": "code",
   "execution_count": 10,
   "metadata": {},
   "outputs": [
    {
     "data": {
      "text/plain": [
       "<matplotlib.axes._subplots.AxesSubplot at 0x2041f7840d0>"
      ]
     },
     "execution_count": 10,
     "metadata": {},
     "output_type": "execute_result"
    },
    {
     "data": {
      "image/png": "[encoded data removed]",
      "text/plain": [
       "<Figure size 720x504 with 1 Axes>"
      ]
     },
     "metadata": {
      "needs_background": "light"
     },
     "output_type": "display_data"
    }
   ],
   "source": [
    "plt.figure(figsize=(10,7))\n",
    "sns.heatmap(test.isnull(), yticklabels=False, cbar=False, cmap=\"summer\")  # cbar : colorbar를 그리지 않음."
   ]
  },
  {
   "cell_type": "markdown",
   "metadata": {},
   "source": [
    "### [더 알아보기] 데이터의 수치형 변수, 범주형 변수 살펴보기"
   ]
  },
  {
   "cell_type": "code",
   "execution_count": 11,
   "metadata": {},
   "outputs": [
    {
     "data": {
      "text/plain": [
       "12"
      ]
     },
     "execution_count": 11,
     "metadata": {},
     "output_type": "execute_result"
    }
   ],
   "source": [
    "len(train.columns)"
   ]
  },
  {
   "cell_type": "markdown",
   "metadata": {},
   "source": [
    "### 수치형 변수 살펴보기"
   ]
  },
  {
   "cell_type": "code",
   "execution_count": 12,
   "metadata": {},
   "outputs": [
    {
     "data": {
      "text/html": [
       "<div>\n",
       "<style scoped>\n",
       "    .dataframe tbody tr th:only-of-type {\n",
       "        vertical-align: middle;\n",
       "    }\n",
       "\n",
       "    .dataframe tbody tr th {\n",
       "        vertical-align: top;\n",
       "    }\n",
       "\n",
       "    .dataframe thead th {\n",
       "        text-align: right;\n",
       "    }\n",
       "</style>\n",
       "<table border=\"1\" class=\"dataframe\">\n",
       "  <thead>\n",
       "    <tr style=\"text-align: right;\">\n",
       "      <th></th>\n",
       "      <th>PassengerId</th>\n",
       "      <th>Survived</th>\n",
       "      <th>Pclass</th>\n",
       "      <th>Age</th>\n",
       "      <th>SibSp</th>\n",
       "      <th>Parch</th>\n",
       "      <th>Fare</th>\n",
       "    </tr>\n",
       "  </thead>\n",
       "  <tbody>\n",
       "    <tr>\n",
       "      <th>count</th>\n",
       "      <td>891.000000</td>\n",
       "      <td>891.000000</td>\n",
       "      <td>891.000000</td>\n",
       "      <td>714.000000</td>\n",
       "      <td>891.000000</td>\n",
       "      <td>891.000000</td>\n",
       "      <td>891.000000</td>\n",
       "    </tr>\n",
       "    <tr>\n",
       "      <th>mean</th>\n",
       "      <td>446.000000</td>\n",
       "      <td>0.383838</td>\n",
       "      <td>2.308642</td>\n",
       "      <td>29.699118</td>\n",
       "      <td>0.523008</td>\n",
       "      <td>0.381594</td>\n",
       "      <td>32.204208</td>\n",
       "    </tr>\n",
       "    <tr>\n",
       "      <th>std</th>\n",
       "      <td>257.353842</td>\n",
       "      <td>0.486592</td>\n",
       "      <td>0.836071</td>\n",
       "      <td>14.526497</td>\n",
       "      <td>1.102743</td>\n",
       "      <td>0.806057</td>\n",
       "      <td>49.693429</td>\n",
       "    </tr>\n",
       "    <tr>\n",
       "      <th>min</th>\n",
       "      <td>1.000000</td>\n",
       "      <td>0.000000</td>\n",
       "      <td>1.000000</td>\n",
       "      <td>0.420000</td>\n",
       "      <td>0.000000</td>\n",
       "      <td>0.000000</td>\n",
       "      <td>0.000000</td>\n",
       "    </tr>\n",
       "    <tr>\n",
       "      <th>25%</th>\n",
       "      <td>223.500000</td>\n",
       "      <td>0.000000</td>\n",
       "      <td>2.000000</td>\n",
       "      <td>20.125000</td>\n",
       "      <td>0.000000</td>\n",
       "      <td>0.000000</td>\n",
       "      <td>7.910400</td>\n",
       "    </tr>\n",
       "    <tr>\n",
       "      <th>50%</th>\n",
       "      <td>446.000000</td>\n",
       "      <td>0.000000</td>\n",
       "      <td>3.000000</td>\n",
       "      <td>28.000000</td>\n",
       "      <td>0.000000</td>\n",
       "      <td>0.000000</td>\n",
       "      <td>14.454200</td>\n",
       "    </tr>\n",
       "    <tr>\n",
       "      <th>75%</th>\n",
       "      <td>668.500000</td>\n",
       "      <td>1.000000</td>\n",
       "      <td>3.000000</td>\n",
       "      <td>38.000000</td>\n",
       "      <td>1.000000</td>\n",
       "      <td>0.000000</td>\n",
       "      <td>31.000000</td>\n",
       "    </tr>\n",
       "    <tr>\n",
       "      <th>max</th>\n",
       "      <td>891.000000</td>\n",
       "      <td>1.000000</td>\n",
       "      <td>3.000000</td>\n",
       "      <td>80.000000</td>\n",
       "      <td>8.000000</td>\n",
       "      <td>6.000000</td>\n",
       "      <td>512.329200</td>\n",
       "    </tr>\n",
       "  </tbody>\n",
       "</table>\n",
       "</div>"
      ],
      "text/plain": [
       "       PassengerId    Survived      Pclass         Age       SibSp  \\\n",
       "count   891.000000  891.000000  891.000000  714.000000  891.000000   \n",
       "mean    446.000000    0.383838    2.308642   29.699118    0.523008   \n",
       "std     257.353842    0.486592    0.836071   14.526497    1.102743   \n",
       "min       1.000000    0.000000    1.000000    0.420000    0.000000   \n",
       "25%     223.500000    0.000000    2.000000   20.125000    0.000000   \n",
       "50%     446.000000    0.000000    3.000000   28.000000    0.000000   \n",
       "75%     668.500000    1.000000    3.000000   38.000000    1.000000   \n",
       "max     891.000000    1.000000    3.000000   80.000000    8.000000   \n",
       "\n",
       "            Parch        Fare  \n",
       "count  891.000000  891.000000  \n",
       "mean     0.381594   32.204208  \n",
       "std      0.806057   49.693429  \n",
       "min      0.000000    0.000000  \n",
       "25%      0.000000    7.910400  \n",
       "50%      0.000000   14.454200  \n",
       "75%      0.000000   31.000000  \n",
       "max      6.000000  512.329200  "
      ]
     },
     "execution_count": 12,
     "metadata": {},
     "output_type": "execute_result"
    }
   ],
   "source": [
    "num_cols = [col for col in train.columns[:12] if train[col].dtype in ['int64', 'float64'] ]\n",
    "train[num_cols].describe()"
   ]
  },
  {
   "cell_type": "markdown",
   "metadata": {},
   "source": [
    "### 범주형 변수 살펴보기"
   ]
  },
  {
   "cell_type": "code",
   "execution_count": 13,
   "metadata": {},
   "outputs": [
    {
     "data": {
      "text/html": [
       "<div>\n",
       "<style scoped>\n",
       "    .dataframe tbody tr th:only-of-type {\n",
       "        vertical-align: middle;\n",
       "    }\n",
       "\n",
       "    .dataframe tbody tr th {\n",
       "        vertical-align: top;\n",
       "    }\n",
       "\n",
       "    .dataframe thead th {\n",
       "        text-align: right;\n",
       "    }\n",
       "</style>\n",
       "<table border=\"1\" class=\"dataframe\">\n",
       "  <thead>\n",
       "    <tr style=\"text-align: right;\">\n",
       "      <th></th>\n",
       "      <th>Name</th>\n",
       "      <th>Sex</th>\n",
       "      <th>Ticket</th>\n",
       "      <th>Cabin</th>\n",
       "      <th>Embarked</th>\n",
       "    </tr>\n",
       "  </thead>\n",
       "  <tbody>\n",
       "    <tr>\n",
       "      <th>count</th>\n",
       "      <td>891</td>\n",
       "      <td>891</td>\n",
       "      <td>891</td>\n",
       "      <td>204</td>\n",
       "      <td>889</td>\n",
       "    </tr>\n",
       "    <tr>\n",
       "      <th>unique</th>\n",
       "      <td>891</td>\n",
       "      <td>2</td>\n",
       "      <td>681</td>\n",
       "      <td>147</td>\n",
       "      <td>3</td>\n",
       "    </tr>\n",
       "    <tr>\n",
       "      <th>top</th>\n",
       "      <td>Lefebre, Miss. Jeannie</td>\n",
       "      <td>male</td>\n",
       "      <td>CA. 2343</td>\n",
       "      <td>C23 C25 C27</td>\n",
       "      <td>S</td>\n",
       "    </tr>\n",
       "    <tr>\n",
       "      <th>freq</th>\n",
       "      <td>1</td>\n",
       "      <td>577</td>\n",
       "      <td>7</td>\n",
       "      <td>4</td>\n",
       "      <td>644</td>\n",
       "    </tr>\n",
       "  </tbody>\n",
       "</table>\n",
       "</div>"
      ],
      "text/plain": [
       "                          Name   Sex    Ticket        Cabin Embarked\n",
       "count                      891   891       891          204      889\n",
       "unique                     891     2       681          147        3\n",
       "top     Lefebre, Miss. Jeannie  male  CA. 2343  C23 C25 C27        S\n",
       "freq                         1   577         7            4      644"
      ]
     },
     "execution_count": 13,
     "metadata": {},
     "output_type": "execute_result"
    }
   ],
   "source": [
    "cat_cols = [col for col in train.columns[:12] if train[col].dtype in ['O'] ]\n",
    "train[cat_cols].describe()"
   ]
  },
  {
   "cell_type": "code",
   "execution_count": 14,
   "metadata": {},
   "outputs": [
    {
     "name": "stdout",
     "output_type": "stream",
     "text": [
      "colname : Name, uniq : ['Abbing, Mr. Anthony' 'Abbott, Mr. Rossmore Edward'\n",
      " 'Abbott, Mrs. Stanton (Rosa Hunt)' 'Abelson, Mr. Samuel'\n",
      " 'Abelson, Mrs. Samuel (Hannah Wizosky)' 'Adahl, Mr. Mauritz Nils Martin'\n",
      " 'Adams, Mr. John' 'Ahlin, Mrs. Johan (Johanna Persdotter Larsson)'\n",
      " 'Aks, Mrs. Sam (Leah Rosen)' 'Albimona, Mr. Nassef Cassem'\n",
      " 'Alexander, Mr. William' 'Alhomaki, Mr. Ilmari Rudolf' 'Ali, Mr. Ahmed'\n",
      " 'Ali, Mr. William' 'Allen, Miss. Elisabeth Walton'\n",
      " 'Allen, Mr. William Henry' 'Allison, Master. Hudson Trevor'\n",
      " 'Allison, Miss. Helen Loraine'\n",
      " 'Allison, Mrs. Hudson J C (Bessie Waldo Daniels)'\n",
      " 'Allum, Mr. Owen George'\n",
      " 'Andersen-Jensen, Miss. Carla Christine Nielsine' 'Anderson, Mr. Harry'\n",
      " 'Andersson, Master. Sigvard Harald Elias'\n",
      " 'Andersson, Miss. Ebba Iris Alfrida' 'Andersson, Miss. Ellis Anna Maria'\n",
      " 'Andersson, Miss. Erna Alexandra' 'Andersson, Miss. Ingeborg Constanzia'\n",
      " 'Andersson, Miss. Sigrid Elisabeth' 'Andersson, Mr. Anders Johan'\n",
      " 'Andersson, Mr. August Edvard (\"Wennerstrom\")'\n",
      " 'Andersson, Mrs. Anders Johan (Alfrida Konstantia Brogren)'\n",
      " 'Andreasson, Mr. Paul Edvin' 'Andrew, Mr. Edgardo Samuel'\n",
      " 'Andrews, Miss. Kornelia Theodosia' 'Andrews, Mr. Thomas Jr'\n",
      " 'Angle, Mrs. William A (Florence \"Mary\" Agnes Hughes)'\n",
      " 'Appleton, Mrs. Edward Dale (Charlotte Lamson)'\n",
      " 'Arnold-Franchi, Mr. Josef'\n",
      " 'Arnold-Franchi, Mrs. Josef (Josefine Franchi)' 'Artagaveytia, Mr. Ramon'\n",
      " 'Asim, Mr. Adola' 'Asplund, Master. Clarence Gustaf Hugo'\n",
      " 'Asplund, Master. Edvin Rojj Felix' 'Asplund, Miss. Lillian Gertrud'\n",
      " 'Asplund, Mrs. Carl Oscar (Selma Augusta Emilia Johansson)'\n",
      " 'Astor, Mrs. John Jacob (Madeleine Talmadge Force)'\n",
      " 'Attalah, Miss. Malake' 'Attalah, Mr. Sleiman'\n",
      " 'Aubart, Mme. Leontine Pauline' 'Augustsson, Mr. Albert'\n",
      " 'Ayoub, Miss. Banoura' 'Backstrom, Mr. Karl Alfred'\n",
      " 'Backstrom, Mrs. Karl Alfred (Maria Mathilda Gustafsson)'\n",
      " 'Baclini, Miss. Eugenie' 'Baclini, Miss. Helene Barbara'\n",
      " 'Baclini, Miss. Marie Catherine' 'Baclini, Mrs. Solomon (Latifa Qurban)'\n",
      " 'Badt, Mr. Mohamed' 'Bailey, Mr. Percy Andrew' 'Balkic, Mr. Cerin'\n",
      " 'Ball, Mrs. (Ada E Hall)' 'Banfield, Mr. Frederick James'\n",
      " 'Barah, Mr. Hanna Assi' 'Barbara, Miss. Saiide'\n",
      " 'Barbara, Mrs. (Catherine David)' 'Barber, Miss. Ellen \"Nellie\"'\n",
      " 'Barkworth, Mr. Algernon Henry Wilson' 'Barton, Mr. David John'\n",
      " 'Bateman, Rev. Robert James' 'Baumann, Mr. John D'\n",
      " 'Baxter, Mr. Quigg Edmond'\n",
      " 'Baxter, Mrs. James (Helene DeLaudeniere Chaput)' 'Bazzani, Miss. Albina'\n",
      " 'Beane, Mr. Edward' 'Beane, Mrs. Edward (Ethel Clarke)'\n",
      " 'Beavan, Mr. William Thomas' 'Becker, Master. Richard F'\n",
      " 'Becker, Miss. Marion Louise' 'Beckwith, Mr. Richard Leonard'\n",
      " 'Beckwith, Mrs. Richard Leonard (Sallie Monypeny)'\n",
      " 'Beesley, Mr. Lawrence' 'Behr, Mr. Karl Howell'\n",
      " 'Bengtsson, Mr. John Viktor' 'Berglund, Mr. Karl Ivar Sven'\n",
      " 'Berriman, Mr. William John' 'Betros, Mr. Tannous'\n",
      " 'Bidois, Miss. Rosalie' 'Bing, Mr. Lee'\n",
      " 'Birkeland, Mr. Hans Martin Monsen' 'Bishop, Mr. Dickinson H'\n",
      " 'Bishop, Mrs. Dickinson H (Helen Walton)' 'Bissette, Miss. Amelia'\n",
      " 'Bjornstrom-Steffansson, Mr. Mauritz Hakan'\n",
      " 'Blackwell, Mr. Stephen Weart' 'Blank, Mr. Henry'\n",
      " 'Bonnell, Miss. Elizabeth' 'Bostandyeff, Mr. Guentcho'\n",
      " 'Boulos, Miss. Nourelain' 'Boulos, Mr. Hanna'\n",
      " 'Boulos, Mrs. Joseph (Sultana)' 'Bourke, Miss. Mary' 'Bourke, Mr. John'\n",
      " 'Bourke, Mrs. John (Catherine)' 'Bowen, Mr. David John \"Dai\"'\n",
      " 'Bowerman, Miss. Elsie Edith' 'Bracken, Mr. James H'\n",
      " 'Bradley, Mr. George (\"George Arthur Brayton\")'\n",
      " 'Braund, Mr. Lewis Richard' 'Braund, Mr. Owen Harris'\n",
      " 'Brewe, Dr. Arthur Jackson' 'Brocklebank, Mr. William Alfred'\n",
      " 'Brown, Miss. Amelia \"Mildred\"' 'Brown, Mr. Thomas William Solomon'\n",
      " 'Brown, Mrs. James Joseph (Margaret Tobin)'\n",
      " 'Brown, Mrs. Thomas William Solomon (Elizabeth Catherine Ford)'\n",
      " 'Bryhl, Mr. Kurt Arnold Gottfrid' 'Burke, Mr. Jeremiah'\n",
      " 'Burns, Miss. Elizabeth Margaret' 'Buss, Miss. Kate'\n",
      " 'Butler, Mr. Reginald Fenton' 'Butt, Major. Archibald Willingham'\n",
      " 'Byles, Rev. Thomas Roussel Davids' 'Bystrom, Mrs. (Karolina)'\n",
      " 'Cacic, Miss. Marija' 'Cacic, Mr. Luka' 'Cairns, Mr. Alexander'\n",
      " 'Calderhead, Mr. Edward Pennington' 'Caldwell, Master. Alden Gates'\n",
      " 'Caldwell, Mrs. Albert Francis (Sylvia Mae Harbaugh)' 'Calic, Mr. Jovo'\n",
      " 'Calic, Mr. Petar' 'Cameron, Miss. Clear Annie' 'Campbell, Mr. William'\n",
      " 'Canavan, Miss. Mary' 'Cann, Mr. Ernest Charles'\n",
      " 'Caram, Mrs. Joseph (Maria Elias)' 'Carbines, Mr. William'\n",
      " 'Cardeza, Mr. Thomas Drake Martinez' 'Carlsson, Mr. August Sigfrid'\n",
      " 'Carlsson, Mr. Frans Olof' 'Carr, Miss. Helen \"Ellen\"'\n",
      " 'Carrau, Mr. Francisco M' 'Carter, Master. William Thornton II'\n",
      " 'Carter, Miss. Lucile Polk' 'Carter, Mr. William Ernest'\n",
      " 'Carter, Mrs. Ernest Courtenay (Lilian Hughes)'\n",
      " 'Carter, Mrs. William Ernest (Lucile Polk)'\n",
      " 'Carter, Rev. Ernest Courtenay' 'Cavendish, Mr. Tyrell William'\n",
      " 'Celotti, Mr. Francesco' 'Chaffee, Mr. Herbert Fuller'\n",
      " 'Chambers, Mr. Norman Campbell'\n",
      " 'Chambers, Mrs. Norman Campbell (Bertha Griggs)'\n",
      " 'Chapman, Mr. Charles Henry' 'Chapman, Mr. John Henry'\n",
      " 'Charters, Mr. David' 'Cherry, Miss. Gladys'\n",
      " 'Chibnall, Mrs. (Edith Martha Bowerman)' 'Chip, Mr. Chang'\n",
      " 'Christmann, Mr. Emil' 'Christy, Miss. Julie Rachel'\n",
      " 'Chronopoulos, Mr. Apostolos'\n",
      " 'Clarke, Mrs. Charles V (Ada Maria Winfield)' 'Cleaver, Miss. Alice'\n",
      " 'Clifford, Mr. George Quincy' 'Coelho, Mr. Domingos Fernandeo'\n",
      " 'Cohen, Mr. Gurshon \"Gus\"' 'Coleff, Mr. Peju' 'Coleff, Mr. Satio'\n",
      " 'Coleridge, Mr. Reginald Charles' 'Collander, Mr. Erik Gustaf'\n",
      " 'Colley, Mr. Edward Pomeroy' 'Collyer, Miss. Marjorie \"Lottie\"'\n",
      " 'Collyer, Mr. Harvey' 'Collyer, Mrs. Harvey (Charlotte Annie Tate)'\n",
      " 'Compton, Miss. Sara Rebecca' 'Connaghton, Mr. Michael'\n",
      " 'Connolly, Miss. Kate' 'Connors, Mr. Patrick' 'Cook, Mr. Jacob'\n",
      " 'Cor, Mr. Liudevit' 'Corn, Mr. Harry'\n",
      " 'Coutts, Master. Eden Leslie \"Neville\"'\n",
      " 'Coutts, Master. William Loch \"William\"' 'Coxon, Mr. Daniel'\n",
      " 'Crease, Mr. Ernest James' 'Cribb, Mr. John Hatfield'\n",
      " 'Crosby, Capt. Edward Gifford' 'Crosby, Miss. Harriet R'\n",
      " 'Culumovic, Mr. Jeso'\n",
      " 'Cumings, Mrs. John Bradley (Florence Briggs Thayer)'\n",
      " 'Cunningham, Mr. Alfred Fleming' 'Dahl, Mr. Karl Edwart'\n",
      " 'Dahlberg, Miss. Gerda Ulrika' 'Dakic, Mr. Branko'\n",
      " 'Daly, Mr. Eugene Patrick' 'Daly, Mr. Peter Denis '\n",
      " 'Danbom, Mr. Ernst Gilbert'\n",
      " 'Danbom, Mrs. Ernst Gilbert (Anna Sigrid Maria Brogren)'\n",
      " 'Daniel, Mr. Robert Williams' 'Danoff, Mr. Yoto' 'Dantcheff, Mr. Ristiu'\n",
      " 'Davidson, Mr. Thornton' 'Davies, Master. John Morgan Jr'\n",
      " 'Davies, Mr. Alfred J' 'Davies, Mr. Charles Henry' 'Davis, Miss. Mary'\n",
      " 'Davison, Mrs. Thomas Henry (Mary E Finck)' 'Dean, Master. Bertram Vere'\n",
      " 'Dean, Mr. Bertram Frank' 'Denkoff, Mr. Mitto' 'Dennis, Mr. Samuel'\n",
      " 'Devaney, Miss. Margaret Delia' 'Dick, Mr. Albert Adrian'\n",
      " 'Dick, Mrs. Albert Adrian (Vera Gillespie)' 'Dimic, Mr. Jovan'\n",
      " 'Dodge, Master. Washington' 'Doharr, Mr. Tannous' 'Doling, Miss. Elsie'\n",
      " 'Doling, Mrs. John T (Ada Julia Bone)' 'Dooley, Mr. Patrick'\n",
      " 'Dorking, Mr. Edward Arthur' 'Douglas, Mr. Walter Donald'\n",
      " 'Dowdell, Miss. Elizabeth' 'Downton, Mr. William James'\n",
      " 'Drazenoic, Mr. Jozef' 'Drew, Mrs. James Vivian (Lulu Thorne Christian)'\n",
      " 'Duane, Mr. Frank'\n",
      " 'Duff Gordon, Lady. (Lucille Christiana Sutherland) (\"Mrs Morgan\")'\n",
      " 'Duff Gordon, Sir. Cosmo Edmund (\"Mr Morgan\")'\n",
      " 'Duran y More, Miss. Asuncion' 'Edvardsson, Mr. Gustaf Hjalmar'\n",
      " 'Eitemiller, Mr. George Floyd' 'Eklund, Mr. Hans Linus'\n",
      " 'Ekstrom, Mr. Johan' 'Elias, Mr. Dibo' 'Elias, Mr. Joseph Jr'\n",
      " 'Elias, Mr. Tannous' 'Elsbury, Mr. William James'\n",
      " 'Emanuel, Miss. Virginia Ethel' 'Emir, Mr. Farred Chehab'\n",
      " 'Endres, Miss. Caroline Louise' 'Eustis, Miss. Elizabeth Mussey'\n",
      " 'Fahlstrom, Mr. Arne Jonas' 'Farrell, Mr. James' 'Farthing, Mr. John'\n",
      " 'Faunthorpe, Mrs. Lizzie (Elizabeth Anne Wilkinson)'\n",
      " 'Fischer, Mr. Eberhard Thelander' 'Fleming, Miss. Margaret'\n",
      " 'Flynn, Mr. James' 'Flynn, Mr. John' 'Flynn, Mr. John Irwin (\"Irving\")'\n",
      " 'Foo, Mr. Choong' 'Ford, Miss. Doolina Margaret \"Daisy\"'\n",
      " 'Ford, Miss. Robina Maggie \"Ruby\"' 'Ford, Mr. William Neal'\n",
      " 'Ford, Mrs. Edward (Margaret Ann Watson)'\n",
      " 'Foreman, Mr. Benjamin Laventall' 'Fortune, Miss. Alice Elizabeth'\n",
      " 'Fortune, Miss. Mabel Helen' 'Fortune, Mr. Charles Alexander'\n",
      " 'Fortune, Mr. Mark' 'Fox, Mr. Stanley Hubert'\n",
      " 'Francatelli, Miss. Laura Mabel' 'Frauenthal, Dr. Henry William'\n",
      " 'Frauenthal, Mrs. Henry William (Clara Heinsheimer)'\n",
      " 'Frolicher, Miss. Hedwig Margaritha' 'Frolicher-Stehli, Mr. Maxmillian'\n",
      " 'Frost, Mr. Anthony Wood \"Archie\"' 'Fry, Mr. Richard'\n",
      " 'Funk, Miss. Annie Clemmer' 'Futrelle, Mr. Jacques Heath'\n",
      " 'Futrelle, Mrs. Jacques Heath (Lily May Peel)' 'Fynney, Mr. Joseph J'\n",
      " 'Gale, Mr. Shadrach' 'Gallagher, Mr. Martin' 'Garfirth, Mr. John'\n",
      " 'Garside, Miss. Ethel' 'Gaskell, Mr. Alfred' 'Gavey, Mr. Lawrence'\n",
      " 'Gee, Mr. Arthur H' 'Gheorgheff, Mr. Stanio' 'Giglio, Mr. Victor'\n",
      " 'Giles, Mr. Frederick Edward' 'Gilinski, Mr. Eliezer'\n",
      " 'Gill, Mr. John William' 'Gillespie, Mr. William Henry'\n",
      " 'Gilnagh, Miss. Katherine \"Katie\"' 'Givard, Mr. Hans Kristensen'\n",
      " 'Glynn, Miss. Mary Agatha' 'Goldenberg, Mr. Samuel L'\n",
      " 'Goldenberg, Mrs. Samuel L (Edwiga Grabowska)'\n",
      " 'Goldschmidt, Mr. George B'\n",
      " 'Goldsmith, Master. Frank John William \"Frankie\"'\n",
      " 'Goldsmith, Mr. Frank John'\n",
      " 'Goldsmith, Mrs. Frank John (Emily Alice Brown)'\n",
      " 'Goncalves, Mr. Manuel Estanslas' 'Goodwin, Master. Harold Victor'\n",
      " 'Goodwin, Master. Sidney Leonard' 'Goodwin, Master. William Frederick'\n",
      " 'Goodwin, Miss. Lillian Amy' 'Goodwin, Mr. Charles Edward'\n",
      " 'Goodwin, Mrs. Frederick (Augusta Tyler)' 'Graham, Miss. Margaret Edith'\n",
      " 'Graham, Mr. George Edward'\n",
      " 'Graham, Mrs. William Thompson (Edith Junkins)' 'Green, Mr. George Henry'\n",
      " 'Greenberg, Mr. Samuel' 'Greenfield, Mr. William Bertram'\n",
      " 'Gronnestad, Mr. Daniel Danielsen' 'Guggenheim, Mr. Benjamin'\n",
      " 'Gustafsson, Mr. Alfred Ossian' 'Gustafsson, Mr. Anders Vilhelm'\n",
      " 'Gustafsson, Mr. Johan Birger' 'Gustafsson, Mr. Karl Gideon'\n",
      " 'Haas, Miss. Aloisia' 'Hagland, Mr. Ingvald Olai Olsen'\n",
      " 'Hagland, Mr. Konrad Mathias Reiersen' 'Hakkarainen, Mr. Pekka Pietari'\n",
      " 'Hakkarainen, Mrs. Pekka Pietari (Elin Matilda Dolck)'\n",
      " 'Hale, Mr. Reginald' 'Hamalainen, Master. Viljo'\n",
      " 'Hamalainen, Mrs. William (Anna)' 'Hampe, Mr. Leon' 'Hanna, Mr. Mansour'\n",
      " 'Hansen, Mr. Claus Peter' 'Hansen, Mr. Henrik Juul'\n",
      " 'Hansen, Mr. Henry Damsgaard' 'Harder, Mr. George Achilles'\n",
      " 'Harknett, Miss. Alice Phoebe' 'Harmer, Mr. Abraham (David Lishin)'\n",
      " 'Harper, Miss. Annie Jessie \"Nina\"' 'Harper, Mr. Henry Sleeper'\n",
      " 'Harper, Mrs. Henry Sleeper (Myna Haxtun)' 'Harper, Rev. John'\n",
      " 'Harrington, Mr. Charles H' 'Harris, Mr. George'\n",
      " 'Harris, Mr. Henry Birkhardt' 'Harris, Mr. Walter'\n",
      " 'Harris, Mrs. Henry Birkhardt (Irene Wallach)' 'Harrison, Mr. William'\n",
      " 'Hart, Miss. Eva Miriam' 'Hart, Mr. Benjamin' 'Hart, Mr. Henry'\n",
      " 'Hart, Mrs. Benjamin (Esther Ada Bloomfield)' 'Hassab, Mr. Hammad'\n",
      " 'Hassan, Mr. Houssein G N' 'Hawksford, Mr. Walter James'\n",
      " 'Hays, Miss. Margaret Bechstein'\n",
      " 'Hays, Mrs. Charles Melville (Clara Jennings Gregg)'\n",
      " 'Healy, Miss. Hanora \"Nora\"' 'Hedman, Mr. Oskar Arvid'\n",
      " 'Hegarty, Miss. Hanora \"Nora\"' 'Heikkinen, Miss. Laina'\n",
      " 'Heininen, Miss. Wendla Maria' 'Hendekovic, Mr. Ignjac'\n",
      " 'Henry, Miss. Delia' 'Herman, Miss. Alice'\n",
      " 'Herman, Mrs. Samuel (Jane Laver)' 'Hewlett, Mrs. (Mary D Kingcome) '\n",
      " 'Hickman, Mr. Leonard Mark' 'Hickman, Mr. Lewis'\n",
      " 'Hickman, Mr. Stanley George' 'Hippach, Miss. Jean Gertrude'\n",
      " 'Hippach, Mrs. Louis Albert (Ida Sophia Fischer)'\n",
      " 'Hirvonen, Miss. Hildur E' 'Hocking, Mr. Richard George'\n",
      " 'Hocking, Mrs. Elizabeth (Eliza Needs)' 'Hodges, Mr. Henry Price'\n",
      " 'Hogeboom, Mrs. John C (Anna Andrews)' 'Hold, Mr. Stephen'\n",
      " 'Holm, Mr. John Fredrik Alexander' 'Holverson, Mr. Alexander Oskar'\n",
      " 'Holverson, Mrs. Alexander Oskar (Mary Aline Towner)'\n",
      " 'Homer, Mr. Harry (\"Mr E Haven\")' 'Honkanen, Miss. Eliina'\n",
      " 'Hood, Mr. Ambrose Jr' 'Horgan, Mr. John' 'Hosono, Mr. Masabumi'\n",
      " 'Hoyt, Mr. Frederick Maxfield' 'Hoyt, Mr. William Fisher'\n",
      " 'Hoyt, Mrs. Frederick Maxfield (Jane Anne Forby)'\n",
      " 'Humblen, Mr. Adolf Mathias Nicolai Olsen' 'Hunt, Mr. George Henry'\n",
      " 'Ibrahim Shawah, Mr. Yousseff' 'Icard, Miss. Amelie'\n",
      " 'Ilett, Miss. Bertha' 'Ilmakangas, Miss. Pieta Sofia'\n",
      " 'Isham, Miss. Ann Elizabeth' 'Ivanoff, Mr. Kanio'\n",
      " 'Jacobsohn, Mr. Sidney Samuel'\n",
      " 'Jacobsohn, Mrs. Sidney Samuel (Amy Frances Christy)'\n",
      " 'Jalsevac, Mr. Ivan' 'Jansson, Mr. Carl Olof' 'Jardin, Mr. Jose Neto'\n",
      " 'Jarvis, Mr. John Denzil' 'Jenkin, Mr. Stephen Curnow'\n",
      " 'Jensen, Mr. Hans Peder' 'Jensen, Mr. Niels Peder'\n",
      " 'Jensen, Mr. Svend Lauritz' 'Jermyn, Miss. Annie'\n",
      " 'Jerwan, Mrs. Amin S (Marie Marthe Thuillard)'\n",
      " 'Johannesen-Bratthammer, Mr. Bernt' 'Johanson, Mr. Jakob Alfred'\n",
      " 'Johansson, Mr. Erik' 'Johansson, Mr. Gustaf Joel'\n",
      " 'Johansson, Mr. Karl Johan' 'Johnson, Master. Harold Theodor'\n",
      " 'Johnson, Miss. Eleanor Ileen' 'Johnson, Mr. Alfred'\n",
      " 'Johnson, Mr. Malkolm Joackim' 'Johnson, Mr. William Cahoone Jr'\n",
      " 'Johnson, Mrs. Oscar W (Elisabeth Vilhelmina Berg)'\n",
      " 'Johnston, Miss. Catherine Helen \"Carrie\"' 'Johnston, Mr. Andrew G'\n",
      " 'Jonkoff, Mr. Lalio' 'Jonsson, Mr. Carl' 'Jussila, Miss. Katriina'\n",
      " 'Jussila, Miss. Mari Aina' 'Jussila, Mr. Eiriik'\n",
      " 'Kallio, Mr. Nikolai Erland' 'Kalvik, Mr. Johannes Halvorsen'\n",
      " 'Kantor, Mr. Sinai' 'Kantor, Mrs. Sinai (Miriam Sternin)'\n",
      " 'Karaic, Mr. Milan' 'Karlsson, Mr. Nils August' 'Karun, Miss. Manca'\n",
      " 'Kassem, Mr. Fared' 'Keane, Miss. Nora A' 'Keane, Mr. Andrew \"Andy\"'\n",
      " 'Keefe, Mr. Arthur' 'Kelly, Miss. Anna Katherine \"Annie Kate\"'\n",
      " 'Kelly, Miss. Mary' 'Kelly, Mr. James' 'Kelly, Mrs. Florence \"Fannie\"'\n",
      " 'Kent, Mr. Edward Austin' 'Kenyon, Mrs. Frederick R (Marion)'\n",
      " 'Kiernan, Mr. Philip' 'Kilgannon, Mr. Thomas J'\n",
      " 'Kimball, Mr. Edwin Nelson Jr' 'Kink, Mr. Vincenz'\n",
      " 'Kink-Heilmann, Miss. Luise Gretchen' 'Kirkland, Rev. Charles Leonard'\n",
      " 'Klaber, Mr. Herman' 'Klasen, Mr. Klas Albin' 'Knight, Mr. Robert J'\n",
      " 'Kraeff, Mr. Theodor' 'Kvillner, Mr. Johan Henrik Johannesson'\n",
      " 'Lahoud, Mr. Sarkis' 'Lahtinen, Mrs. William (Anna Sylfven)'\n",
      " 'Laitinen, Miss. Kristina Sofia' 'Laleff, Mr. Kristo' 'Lam, Mr. Ali'\n",
      " 'Lam, Mr. Len' 'Landergren, Miss. Aurora Adelia' 'Lang, Mr. Fang'\n",
      " 'Laroche, Miss. Simonne Marie Anne Andree'\n",
      " 'Laroche, Mr. Joseph Philippe Lemercier'\n",
      " 'Laroche, Mrs. Joseph (Juliette Marie Louise Lafargue)'\n",
      " 'Larsson, Mr. August Viktor' 'Larsson, Mr. Bengt Edvin'\n",
      " 'LeRoy, Miss. Bertha' 'Leader, Dr. Alice (Farnham)'\n",
      " 'Leeni, Mr. Fahim (\"Philip Zenni\")' 'Lefebre, Master. Henry Forbes'\n",
      " 'Lefebre, Miss. Ida' 'Lefebre, Miss. Jeannie' 'Lefebre, Miss. Mathilde'\n",
      " 'Lehmann, Miss. Bertha' 'Leinonen, Mr. Antti Gustaf'\n",
      " 'Leitch, Miss. Jessie Wills' 'Lemberopolous, Mr. Peter L'\n",
      " 'Lemore, Mrs. (Amelia Milley)' 'Lennon, Mr. Denis' 'Leonard, Mr. Lionel'\n",
      " 'Lester, Mr. James' 'Lesurer, Mr. Gustave J' 'Levy, Mr. Rene Jacques'\n",
      " 'Lewy, Mr. Ervin G' 'Leyson, Mr. Robert William Norman'\n",
      " 'Lievens, Mr. Rene Aime' 'Lindahl, Miss. Agda Thorilda Viktoria'\n",
      " 'Lindblom, Miss. Augusta Charlotta' 'Lindell, Mr. Edvard Bengtsson'\n",
      " 'Lindqvist, Mr. Eino William' 'Lines, Miss. Mary Conover' 'Ling, Mr. Lee'\n",
      " 'Lobb, Mr. William Arthur'\n",
      " 'Lobb, Mrs. William Arthur (Cordelia K Stanlick)'\n",
      " 'Long, Mr. Milton Clyde' 'Longley, Miss. Gretchen Fiske'\n",
      " 'Louch, Mrs. Charles Alexander (Alice Adelaide Slow)'\n",
      " 'Lovell, Mr. John Hall (\"Henry\")' 'Lulic, Mr. Nikola'\n",
      " 'Lundahl, Mr. Johan Svensson' 'Lurette, Miss. Elise' 'Mack, Mrs. (Mary)'\n",
      " 'Madigan, Miss. Margaret \"Maggie\"' 'Madill, Miss. Georgette Alexandra'\n",
      " 'Madsen, Mr. Fridtjof Arne' 'Maenpaa, Mr. Matti Alexanteri'\n",
      " 'Maioni, Miss. Roberta' 'Maisner, Mr. Simon' 'Mallet, Master. Andre'\n",
      " 'Mallet, Mr. Albert' 'Mamee, Mr. Hanna' 'Mangan, Miss. Mary'\n",
      " 'Mannion, Miss. Margareth' 'Marechal, Mr. Pierre' 'Markoff, Mr. Marin'\n",
      " 'Markun, Mr. Johann' 'Marvin, Mr. Daniel Warner'\n",
      " 'Masselmani, Mrs. Fatima' 'Matthews, Mr. William John'\n",
      " 'Mayne, Mlle. Berthe Antonine (\"Mrs de Villiers\")'\n",
      " 'McCarthy, Mr. Timothy J' 'McCormack, Mr. Thomas Joseph'\n",
      " 'McCoy, Miss. Agnes' 'McCoy, Mr. Bernard'\n",
      " 'McDermott, Miss. Brigdet Delia' 'McEvoy, Mr. Michael'\n",
      " 'McGough, Mr. James Robert' 'McGovern, Miss. Mary'\n",
      " 'McGowan, Miss. Anna \"Annie\"' 'McKane, Mr. Peter David'\n",
      " 'McMahon, Mr. Martin' 'McNamee, Mr. Neal'\n",
      " 'Meanwell, Miss. (Marion Ogden)'\n",
      " 'Meek, Mrs. Thomas (Annie Louise Rowley)'\n",
      " 'Mellinger, Miss. Madeleine Violet'\n",
      " 'Mellinger, Mrs. (Elizabeth Anne Maidment)' 'Mellors, Mr. William John'\n",
      " 'Meo, Mr. Alfonzo' 'Mernagh, Mr. Robert' 'Meyer, Mr. August'\n",
      " 'Meyer, Mr. Edgar Joseph' 'Meyer, Mrs. Edgar Joseph (Leila Saks)'\n",
      " 'Millet, Mr. Francis Davis' 'Milling, Mr. Jacob Christian'\n",
      " 'Minahan, Dr. William Edward' 'Minahan, Miss. Daisy E' 'Mineff, Mr. Ivan'\n",
      " 'Mionoff, Mr. Stoytcho' 'Mitchell, Mr. Henry Michael' 'Mitkoff, Mr. Mito'\n",
      " 'Mockler, Miss. Helen Mary \"Ellie\"' 'Moen, Mr. Sigurd Hansen'\n",
      " 'Molson, Mr. Harry Markland' 'Montvila, Rev. Juozas'\n",
      " 'Moor, Master. Meier' 'Moor, Mrs. (Beila)' 'Moore, Mr. Leonard Charles'\n",
      " 'Moran, Miss. Bertha' 'Moran, Mr. Daniel J' 'Moran, Mr. James'\n",
      " 'Moraweck, Dr. Ernest' 'Morley, Mr. Henry Samuel (\"Mr Henry Marshall\")'\n",
      " 'Morley, Mr. William' 'Morrow, Mr. Thomas Rowan' 'Moss, Mr. Albert Johan'\n",
      " 'Moubarek, Master. Gerios'\n",
      " 'Moubarek, Master. Halim Gonios (\"William George\")'\n",
      " 'Moussa, Mrs. (Mantoura Boulos)' 'Moutal, Mr. Rahamin Haim'\n",
      " 'Mudd, Mr. Thomas Charles' 'Mullens, Miss. Katherine \"Katie\"'\n",
      " 'Murdlin, Mr. Joseph' 'Murphy, Miss. Katherine \"Kate\"'\n",
      " 'Murphy, Miss. Margaret Jane' 'Myhrman, Mr. Pehr Fabian Oliver Malkolm'\n",
      " 'Naidenoff, Mr. Penko' 'Najib, Miss. Adele Kiamie \"Jane\"'\n",
      " 'Nakid, Miss. Maria (\"Mary\")' 'Nakid, Mr. Sahid' 'Nankoff, Mr. Minko'\n",
      " 'Nasser, Mr. Nicholas' 'Nasser, Mrs. Nicholas (Adele Achem)'\n",
      " 'Natsch, Mr. Charles H' 'Navratil, Master. Edmond Roger'\n",
      " 'Navratil, Master. Michel M' 'Navratil, Mr. Michel (\"Louis M Hoffman\")'\n",
      " 'Nenkoff, Mr. Christo' 'Newell, Miss. Madeleine' 'Newell, Miss. Marjorie'\n",
      " 'Newell, Mr. Arthur Webster' 'Newsom, Miss. Helen Monypeny'\n",
      " 'Nicholls, Mr. Joseph Charles' 'Nicholson, Mr. Arthur Ernest'\n",
      " 'Nicola-Yarred, Master. Elias' 'Nicola-Yarred, Miss. Jamila'\n",
      " 'Nilsson, Miss. Helmina Josefina' 'Nirva, Mr. Iisakki Antino Aijo'\n",
      " 'Niskanen, Mr. Juha' 'Norman, Mr. Robert Douglas'\n",
      " 'Nosworthy, Mr. Richard Cater' 'Novel, Mr. Mansouer'\n",
      " 'Nye, Mrs. (Elizabeth Ramell)' 'Nysten, Miss. Anna Sofia'\n",
      " 'Nysveen, Mr. Johan Hansen' \"O'Brien, Mr. Thomas\" \"O'Brien, Mr. Timothy\"\n",
      " 'O\\'Brien, Mrs. Thomas (Johanna \"Hannah\" Godfrey)'\n",
      " \"O'Connell, Mr. Patrick D\" \"O'Connor, Mr. Maurice\"\n",
      " \"O'Driscoll, Miss. Bridget\" 'O\\'Dwyer, Miss. Ellen \"Nellie\"'\n",
      " 'O\\'Leary, Miss. Hanora \"Norah\"' \"O'Sullivan, Miss. Bridget Mary\"\n",
      " 'Odahl, Mr. Nils Martin' 'Ohman, Miss. Velin' 'Olsen, Mr. Henry Margido'\n",
      " 'Olsen, Mr. Karl Siegwart Andreas' 'Olsen, Mr. Ole Martin'\n",
      " 'Olsson, Miss. Elina' 'Olsson, Mr. Nils Johan Goransson'\n",
      " 'Olsvigen, Mr. Thor Anderson' 'Oreskovic, Miss. Marija'\n",
      " 'Oreskovic, Mr. Luka' 'Osen, Mr. Olaf Elon' 'Osman, Mrs. Mara'\n",
      " 'Ostby, Mr. Engelhart Cornelius' 'Otter, Mr. Richard'\n",
      " 'Padro y Manent, Mr. Julian' 'Pain, Dr. Alfred'\n",
      " 'Palsson, Master. Gosta Leonard' 'Palsson, Miss. Stina Viola'\n",
      " 'Palsson, Miss. Torborg Danira'\n",
      " 'Palsson, Mrs. Nils (Alma Cornelia Berglund)'\n",
      " 'Panula, Master. Eino Viljami' 'Panula, Master. Juha Niilo'\n",
      " 'Panula, Master. Urho Abraham' 'Panula, Mr. Ernesti Arvid'\n",
      " 'Panula, Mr. Jaako Arnold' 'Panula, Mrs. Juha (Maria Emilia Ojala)'\n",
      " 'Parkes, Mr. Francis \"Frank\"' 'Parr, Mr. William Henry Marsh'\n",
      " 'Parrish, Mrs. (Lutie Davis)' 'Partner, Mr. Austen' 'Pasic, Mr. Jakob'\n",
      " 'Patchett, Mr. George' 'Paulner, Mr. Uscher' 'Pavlovic, Mr. Stefo'\n",
      " 'Pears, Mr. Thomas Clinton' 'Pears, Mrs. Thomas (Edith Wearne)'\n",
      " 'Peduzzi, Mr. Joseph' 'Pekoniemi, Mr. Edvard'\n",
      " 'Penasco y Castellana, Mr. Victor de Satode'\n",
      " 'Penasco y Castellana, Mrs. Victor de Satode (Maria Josefa Perez de Soto y Vallejo)'\n",
      " 'Pengelly, Mr. Frederick William' 'Perkin, Mr. John Henry'\n",
      " 'Pernot, Mr. Rene' 'Perreault, Miss. Anne' 'Persson, Mr. Ernst Ulrik'\n",
      " 'Peter, Miss. Anna' 'Peter, Mrs. Catherine (Catherine Rizk)'\n",
      " 'Peters, Miss. Katie' 'Petranec, Miss. Matilda' 'Petroff, Mr. Nedelio'\n",
      " 'Petroff, Mr. Pastcho (\"Pentcho\")' 'Petterson, Mr. Johan Emil'\n",
      " 'Pettersson, Miss. Ellen Natalia' 'Peuchen, Major. Arthur Godfrey'\n",
      " 'Phillips, Miss. Kate Florence (\"Mrs Kate Louise Phillips Marshall\")'\n",
      " 'Pickard, Mr. Berk (Berk Trembisky)' 'Pinsky, Mrs. (Rosa)'\n",
      " 'Plotcharsky, Mr. Vasil' 'Ponesell, Mr. Martin'\n",
      " 'Porter, Mr. Walter Chamberlain'\n",
      " 'Potter, Mrs. Thomas Jr (Lily Alexenia Wilson)'\n",
      " 'Quick, Miss. Phyllis May'\n",
      " 'Quick, Mrs. Frederick Charles (Jane Richards)' 'Radeff, Mr. Alexander'\n",
      " 'Razi, Mr. Raihed' 'Reed, Mr. James George' 'Reeves, Mr. David'\n",
      " 'Rekic, Mr. Tido' 'Renouf, Mr. Peter Henry'\n",
      " 'Renouf, Mrs. Peter Henry (Lillian Jefferys)'\n",
      " 'Reuchlin, Jonkheer. John George' 'Reynaldo, Ms. Encarnacion'\n",
      " 'Rice, Master. Arthur' 'Rice, Master. Eric' 'Rice, Master. Eugene'\n",
      " 'Rice, Master. George Hugh' 'Rice, Mrs. William (Margaret Norton)'\n",
      " 'Richard, Mr. Emile' 'Richards, Master. George Sibley'\n",
      " 'Richards, Master. William Rowe' 'Richards, Mrs. Sidney (Emily Hocking)'\n",
      " 'Ridsdale, Miss. Lucy' 'Ringhini, Mr. Sante' 'Rintamaki, Mr. Matti'\n",
      " 'Risien, Mr. Samuel Beard' 'Robbins, Mr. Victor'\n",
      " 'Robert, Mrs. Edward Scott (Elisabeth Walton McMillan)'\n",
      " 'Robins, Mrs. Alexander A (Grace Charity Laury)'\n",
      " 'Roebling, Mr. Washington Augustus II' 'Rogers, Mr. William John'\n",
      " 'Romaine, Mr. Charles Hallace (\"Mr C Rolmane\")'\n",
      " 'Rommetvedt, Mr. Knud Paust' 'Rood, Mr. Hugh Roscoe'\n",
      " 'Rosblom, Mr. Viktor Richard' 'Rosblom, Mrs. Viktor (Helena Wilhelmina)'\n",
      " 'Ross, Mr. John Hugo'\n",
      " 'Rothes, the Countess. of (Lucy Noel Martha Dyer-Edwards)'\n",
      " 'Rothschild, Mrs. Martin (Elizabeth L. Barrett)'\n",
      " 'Rouse, Mr. Richard Henry' 'Rugg, Miss. Emily'\n",
      " 'Rush, Mr. Alfred George John' 'Ryan, Mr. Patrick'\n",
      " 'Ryerson, Miss. Emily Borie' 'Ryerson, Miss. Susan Parker \"Suzette\"'\n",
      " 'Saad, Mr. Amin' 'Saad, Mr. Khalil' 'Saalfeld, Mr. Adolphe'\n",
      " 'Sadlier, Mr. Matthew' 'Sage, Master. Thomas Henry'\n",
      " 'Sage, Miss. Constance Gladys' 'Sage, Miss. Dorothy Edith \"Dolly\"'\n",
      " 'Sage, Miss. Stella Anna' 'Sage, Mr. Douglas Bullen'\n",
      " 'Sage, Mr. Frederick' 'Sage, Mr. George John Jr' 'Sagesser, Mlle. Emma'\n",
      " 'Salkjelsvik, Miss. Anna Kristine' 'Salonen, Mr. Johan Werner'\n",
      " 'Samaan, Mr. Youssef' 'Sandstrom, Miss. Marguerite Rut'\n",
      " 'Sandstrom, Mrs. Hjalmar (Agnes Charlotta Bengtsson)'\n",
      " 'Saundercock, Mr. William Henry' 'Sawyer, Mr. Frederick Charles'\n",
      " 'Scanlan, Mr. James' 'Sdycoff, Mr. Todor'\n",
      " 'Sedgwick, Mr. Charles Frederick Waddington' 'Serepeca, Miss. Augusta'\n",
      " 'Seward, Mr. Frederic Kimber' 'Sharp, Mr. Percival James R'\n",
      " 'Sheerlinck, Mr. Jan Baptist' 'Shellard, Mr. Frederick William'\n",
      " 'Shelley, Mrs. William (Imanita Parrish Hall)'\n",
      " 'Shorney, Mr. Charles Joseph' 'Shutes, Miss. Elizabeth W'\n",
      " 'Silven, Miss. Lyyli Karoliina' 'Silverthorne, Mr. Spencer Victor'\n",
      " 'Silvey, Mr. William Baird' 'Silvey, Mrs. William Baird (Alice Munger)'\n",
      " 'Simmons, Mr. John' 'Simonius-Blumer, Col. Oberst Alfons'\n",
      " 'Sinkkonen, Miss. Anna' 'Sirayanian, Mr. Orsen' 'Sirota, Mr. Maurice'\n",
      " 'Sivic, Mr. Husein' 'Sivola, Mr. Antti Wilhelm'\n",
      " 'Sjoblom, Miss. Anna Sofia' 'Sjostedt, Mr. Ernst Adolf'\n",
      " 'Skoog, Master. Harald' 'Skoog, Master. Karl Thorsten'\n",
      " 'Skoog, Miss. Mabel' 'Skoog, Miss. Margit Elizabeth' 'Skoog, Mr. Wilhelm'\n",
      " 'Skoog, Mrs. William (Anna Bernhardina Karlsson)' 'Slabenoff, Mr. Petco'\n",
      " 'Slayter, Miss. Hilda Mary' 'Slemen, Mr. Richard James'\n",
      " 'Slocovski, Mr. Selman Francis' 'Sloper, Mr. William Thompson'\n",
      " 'Smart, Mr. John Montgomery' 'Smiljanic, Mr. Mile'\n",
      " 'Smith, Miss. Marion Elsie' 'Smith, Mr. James Clinch'\n",
      " 'Smith, Mr. Richard William' 'Smith, Mr. Thomas'\n",
      " 'Sobey, Mr. Samuel James Hayden'\n",
      " 'Soholt, Mr. Peter Andreas Lauritz Andersen'\n",
      " 'Somerton, Mr. Francis William'\n",
      " 'Spedden, Mrs. Frederic Oakley (Margaretta Corning Stone)'\n",
      " 'Spencer, Mrs. William Augustus (Marie Eugenie)'\n",
      " 'Stahelin-Maeglin, Dr. Max' 'Staneff, Mr. Ivan' 'Stankovic, Mr. Ivan'\n",
      " 'Stanley, Miss. Amy Zillah Elsie' 'Stanley, Mr. Edward Roland'\n",
      " 'Stead, Mr. William Thomas'\n",
      " 'Stephenson, Mrs. Walter Bertram (Martha Eustis)' 'Stewart, Mr. Albert A'\n",
      " 'Stone, Mrs. George Nelson (Martha Evelyn)' 'Stoytcheff, Mr. Ilia'\n",
      " 'Strandberg, Miss. Ida Sofia' 'Stranden, Mr. Juho'\n",
      " 'Strom, Miss. Telma Matilda' 'Strom, Mrs. Wilhelm (Elna Matilda Persson)'\n",
      " 'Sunderland, Mr. Victor Francis' 'Sundman, Mr. Johan Julian'\n",
      " 'Sutehall, Mr. Henry Jr' 'Sutton, Mr. Frederick' 'Svensson, Mr. Johan'\n",
      " 'Svensson, Mr. Olof'\n",
      " 'Swift, Mrs. Frederick Joel (Margaret Welles Barron)'\n",
      " 'Taussig, Miss. Ruth' 'Taussig, Mr. Emil'\n",
      " 'Taussig, Mrs. Emil (Tillie Mandelbaum)' 'Taylor, Mr. Elmer Zebley'\n",
      " 'Taylor, Mrs. Elmer Zebley (Juliet Cummins Wright)'\n",
      " 'Thayer, Mr. John Borland' 'Thayer, Mr. John Borland Jr'\n",
      " 'Thayer, Mrs. John Borland (Marian Longstreth Morris)'\n",
      " 'Theobald, Mr. Thomas Leonard' 'Thomas, Master. Assad Alexander'\n",
      " 'Thorne, Mrs. Gertrude Maybelle' 'Thorneycroft, Mr. Percival'\n",
      " 'Thorneycroft, Mrs. Percival (Florence Kate White)' 'Tikkanen, Mr. Juho'\n",
      " 'Tobin, Mr. Roger' 'Todoroff, Mr. Lalio' 'Tomlin, Mr. Ernest Portage'\n",
      " 'Toomey, Miss. Ellen' 'Torber, Mr. Ernst William'\n",
      " 'Tornquist, Mr. William Henry' 'Toufik, Mr. Nakli'\n",
      " 'Touma, Mrs. Darwis (Hanne Youssef Razi)' 'Troupiansky, Mr. Moses Aaron'\n",
      " 'Trout, Mrs. William H (Jessie L)' 'Troutt, Miss. Edwina Celia \"Winnie\"'\n",
      " 'Turcin, Mr. Stjepan' 'Turja, Miss. Anna Sofia' 'Turkula, Mrs. (Hedwig)'\n",
      " 'Turpin, Mr. William John Robert'\n",
      " 'Turpin, Mrs. William John Robert (Dorothy Ann Wonnacott)'\n",
      " 'Uruchurtu, Don. Manuel E' 'Van Impe, Miss. Catharina'\n",
      " 'Van Impe, Mr. Jean Baptiste'\n",
      " 'Van Impe, Mrs. Jean Baptiste (Rosalie Paula Govaert)'\n",
      " 'Van der hoef, Mr. Wyckoff' 'Vande Velde, Mr. Johannes Joseph'\n",
      " 'Vande Walle, Mr. Nestor Cyriel' 'Vanden Steen, Mr. Leo Peter'\n",
      " 'Vander Cruyssen, Mr. Victor' 'Vander Planke, Miss. Augusta Maria'\n",
      " 'Vander Planke, Mr. Leo Edmondus'\n",
      " 'Vander Planke, Mrs. Julius (Emelia Maria Vandemoortele)'\n",
      " 'Vestrom, Miss. Hulda Amanda Adolfina' 'Vovk, Mr. Janko'\n",
      " 'Waelens, Mr. Achille' 'Walker, Mr. William Anderson' 'Ward, Miss. Anna'\n",
      " 'Warren, Mrs. Frank Manley (Anna Sophia Atkinson)'\n",
      " 'Watson, Mr. Ennis Hastings'\n",
      " 'Watt, Mrs. James (Elizabeth \"Bessie\" Inglis Milne)'\n",
      " 'Webber, Miss. Susan' 'Webber, Mr. James' 'Weir, Col. John'\n",
      " 'Weisz, Mrs. Leopold (Mathilde Francoise Pede)' 'Wells, Miss. Joan'\n",
      " 'West, Miss. Constance Mirium' 'West, Mr. Edwy Arthur'\n",
      " 'West, Mrs. Edwy Arthur (Ada Mary Worth)' 'Wheadon, Mr. Edward H'\n",
      " 'White, Mr. Percival Wayland' 'White, Mr. Richard Frasar'\n",
      " 'Wick, Miss. Mary Natalie' 'Wick, Mrs. George Dennick (Mary Hitchcock)'\n",
      " 'Widegren, Mr. Carl/Charles Peter' 'Widener, Mr. Harry Elkins'\n",
      " 'Wiklund, Mr. Jakob Alfred' 'Wilhelms, Mr. Charles' 'Willey, Mr. Edward'\n",
      " 'Williams, Mr. Charles Duane' 'Williams, Mr. Charles Eugene'\n",
      " 'Williams, Mr. Howard Hugh \"Harry\"' 'Williams, Mr. Leslie'\n",
      " 'Williams-Lambert, Mr. Fletcher Fellows' 'Windelov, Mr. Einar'\n",
      " 'Wiseman, Mr. Phillippe' 'Woolner, Mr. Hugh' 'Wright, Mr. George'\n",
      " 'Yasbeck, Mr. Antoni' 'Yasbeck, Mrs. Antoni (Selini Alexander)'\n",
      " 'Young, Miss. Marie Grice' 'Youseff, Mr. Gerious' 'Yousif, Mr. Wazli'\n",
      " 'Yousseff, Mr. Gerious' 'Yrois, Miss. Henriette (\"Mrs Harbeck\")'\n",
      " 'Zabour, Miss. Hileni' 'Zabour, Miss. Thamine' 'Zimmerman, Mr. Leo'\n",
      " 'de Messemaeker, Mrs. Guillaume Joseph (Emma)' 'de Mulder, Mr. Theodore'\n",
      " 'de Pelsmaeker, Mr. Alfons' 'del Carlo, Mr. Sebastiano'\n",
      " 'van Billiard, Mr. Austin Blyler' 'van Melkebeke, Mr. Philemon']\n",
      "\n",
      "colname : Sex, uniq : ['female' 'male']\n",
      "\n",
      "colname : Ticket, uniq : ['110152' '110413' '110465' '110564' '110813' '111240' '111320' '111361'\n",
      " '111369' '111426' '111427' '111428' '112050' '112052' '112053' '112058'\n",
      " '112059' '112277' '112379' '113028' '113043' '113050' '113051' '113055'\n",
      " '113056' '113059' '113501' '113503' '113505' '113509' '113510' '113514'\n",
      " '113572' '113760' '113767' '113773' '113776' '113781' '113783' '113784'\n",
      " '113786' '113787' '113788' '113789' '113792' '113794' '113796' '113798'\n",
      " '113800' '113803' '113804' '113806' '113807' '11668' '11751' '11752'\n",
      " '11753' '11755' '11765' '11767' '11769' '11771' '11774' '11813' '11967'\n",
      " '12233' '12460' '12749' '13049' '13213' '13214' '13502' '13507' '13509'\n",
      " '13567' '13568' '14311' '14312' '14313' '14973' '1601' '16966' '16988'\n",
      " '17421' '17453' '17463' '17464' '17465' '17466' '17474' '17764' '19877'\n",
      " '19928' '19943' '19947' '19950' '19952' '19972' '19988' '19996' '2003'\n",
      " '211536' '21440' '218629' '219533' '220367' '220845' '2223' '223596'\n",
      " '226593' '226875' '228414' '229236' '230080' '230136' '230433' '230434'\n",
      " '231919' '231945' '233639' '233866' '234360' '234604' '234686' '234818'\n",
      " '236171' '236852' '236853' '237442' '237565' '237668' '237671' '237736'\n",
      " '237789' '237798' '239853' '239854' '239855' '239856' '239865' '240929'\n",
      " '24160' '243847' '243880' '244252' '244270' '244278' '244310' '244358'\n",
      " '244361' '244367' '244373' '248698' '248706' '248723' '248727' '248731'\n",
      " '248733' '248738' '248740' '248747' '250643' '250644' '250646' '250647'\n",
      " '250648' '250649' '250651' '250652' '250653' '250655' '2620' '2623'\n",
      " '2624' '2625' '2626' '2627' '2628' '2629' '2631' '26360' '2641' '2647'\n",
      " '2648' '2649' '2650' '2651' '2653' '2659' '2661' '2662' '2663' '2664'\n",
      " '2665' '2666' '2667' '2668' '2669' '26707' '2671' '2672' '2674' '2677'\n",
      " '2678' '2680' '2683' '2685' '2686' '2687' '2689' '2690' '2691' '2693'\n",
      " '2694' '2695' '2697' '2699' '2700' '27042' '27267' '27849' '28134'\n",
      " '28206' '28213' '28220' '28228' '28403' '28424' '28425' '28551' '28664'\n",
      " '28665' '29011' '2908' '29103' '29104' '29105' '29106' '29108' '2926'\n",
      " '29750' '29751' '3101264' '3101265' '3101267' '3101276' '3101277'\n",
      " '3101278' '3101281' '3101295' '3101296' '3101298' '31027' '31028'\n",
      " '312991' '312992' '312993' '31418' '315037' '315082' '315084' '315086'\n",
      " '315088' '315089' '315090' '315093' '315094' '315096' '315097' '315098'\n",
      " '315151' '315153' '323592' '323951' '324669' '330877' '330909' '330919'\n",
      " '330923' '330931' '330932' '330935' '330958' '330959' '330979' '330980'\n",
      " '334912' '335097' '335677' '33638' '336439' '3411' '341826' '34218'\n",
      " '342826' '343095' '343120' '343275' '343276' '345364' '345572' '345763'\n",
      " '345764' '345765' '345767' '345769' '345770' '345773' '345774' '345777'\n",
      " '345778' '345779' '345780' '345781' '345783' '3460' '347054' '347060'\n",
      " '347061' '347062' '347063' '347064' '347067' '347068' '347069' '347071'\n",
      " '347073' '347074' '347076' '347077' '347078' '347080' '347081' '347082'\n",
      " '347083' '347085' '347087' '347088' '347089' '3474' '347464' '347466'\n",
      " '347468' '347470' '347742' '347743' '348121' '348123' '348124' '349201'\n",
      " '349203' '349204' '349205' '349206' '349207' '349208' '349209' '349210'\n",
      " '349212' '349213' '349214' '349215' '349216' '349217' '349218' '349219'\n",
      " '349221' '349222' '349223' '349224' '349225' '349227' '349228' '349231'\n",
      " '349233' '349234' '349236' '349237' '349239' '349240' '349241' '349242'\n",
      " '349243' '349244' '349245' '349246' '349247' '349248' '349249' '349251'\n",
      " '349252' '349253' '349254' '349256' '349257' '349909' '349910' '349912'\n",
      " '350025' '350026' '350029' '350034' '350035' '350036' '350042' '350043'\n",
      " '350046' '350047' '350048' '350050' '350052' '350060' '350404' '350406'\n",
      " '350407' '350417' '35273' '35281' '35851' '35852' '358585' '36209'\n",
      " '362316' '363291' '363294' '363592' '364498' '364499' '364500' '364506'\n",
      " '364511' '364512' '364516' '364846' '364848' '364849' '364850' '364851'\n",
      " '365222' '365226' '36568' '367226' '367228' '367229' '367230' '367231'\n",
      " '367232' '367655' '368323' '36864' '36865' '36866' '368703' '36928'\n",
      " '36947' '36963' '36967' '36973' '370129' '370365' '370369' '370370'\n",
      " '370371' '370372' '370373' '370375' '370376' '370377' '371060' '371110'\n",
      " '371362' '372622' '373450' '374746' '374887' '374910' '376564' '376566'\n",
      " '382649' '382651' '382652' '383121' '384461' '386525' '392091' '392092'\n",
      " '392096' '394140' '4133' '4134' '4135' '4136' '4137' '4138' '4579'\n",
      " '54636' '5727' '65303' '65304' '65306' '6563' '693' '695' '7267' '7534'\n",
      " '7540' '7545' '7546' '7552' '7553' '7598' '8471' '8475' '9234'\n",
      " 'A./5. 2152' 'A./5. 3235' 'A.5. 11206' 'A.5. 18509' 'A/4 45380'\n",
      " 'A/4 48871' 'A/4. 20589' 'A/4. 34244' 'A/4. 39886' 'A/5 21171'\n",
      " 'A/5 21172' 'A/5 21173' 'A/5 21174' 'A/5 2466' 'A/5 2817' 'A/5 3536'\n",
      " 'A/5 3540' 'A/5 3594' 'A/5 3902' 'A/5. 10482' 'A/5. 13032' 'A/5. 2151'\n",
      " 'A/5. 3336' 'A/5. 3337' 'A/5. 851' 'A/S 2816' 'A4. 54510' 'C 17369'\n",
      " 'C 4001' 'C 7075' 'C 7076' 'C 7077' 'C.A. 17248' 'C.A. 18723' 'C.A. 2315'\n",
      " 'C.A. 24579' 'C.A. 24580' 'C.A. 2673' 'C.A. 29178' 'C.A. 29395'\n",
      " 'C.A. 29566' 'C.A. 31026' 'C.A. 31921' 'C.A. 33111' 'C.A. 33112'\n",
      " 'C.A. 33595' 'C.A. 34260' 'C.A. 34651' 'C.A. 37671' 'C.A. 5547'\n",
      " 'C.A. 6212' 'C.A./SOTON 34068' 'CA 2144' 'CA. 2314' 'CA. 2343'\n",
      " 'F.C. 12750' 'F.C.C. 13528' 'F.C.C. 13529' 'F.C.C. 13531' 'Fa 265302'\n",
      " 'LINE' 'P/PP 3381' 'PC 17318' 'PC 17473' 'PC 17474' 'PC 17475' 'PC 17476'\n",
      " 'PC 17477' 'PC 17482' 'PC 17483' 'PC 17485' 'PC 17558' 'PC 17569'\n",
      " 'PC 17572' 'PC 17582' 'PC 17585' 'PC 17590' 'PC 17592' 'PC 17593'\n",
      " 'PC 17595' 'PC 17596' 'PC 17597' 'PC 17599' 'PC 17600' 'PC 17601'\n",
      " 'PC 17603' 'PC 17604' 'PC 17605' 'PC 17608' 'PC 17609' 'PC 17610'\n",
      " 'PC 17611' 'PC 17612' 'PC 17754' 'PC 17755' 'PC 17756' 'PC 17757'\n",
      " 'PC 17758' 'PC 17759' 'PC 17760' 'PC 17761' 'PP 4348' 'PP 9549'\n",
      " 'S.C./A.4. 23567' 'S.C./PARIS 2079' 'S.O./P.P. 3' 'S.O./P.P. 751'\n",
      " 'S.O.C. 14879' 'S.O.P. 1166' 'S.P. 3464' 'S.W./PP 752' 'SC 1748'\n",
      " 'SC/AH 29037' 'SC/AH 3085' 'SC/AH Basle 541' 'SC/PARIS 2131'\n",
      " 'SC/PARIS 2133' 'SC/PARIS 2146' 'SC/PARIS 2149' 'SC/PARIS 2167'\n",
      " 'SC/Paris 2123' 'SC/Paris 2163' 'SCO/W 1585' 'SO/C 14885'\n",
      " 'SOTON/O.Q. 3101305' 'SOTON/O.Q. 3101306' 'SOTON/O.Q. 3101307'\n",
      " 'SOTON/O.Q. 3101310' 'SOTON/O.Q. 3101311' 'SOTON/O.Q. 3101312'\n",
      " 'SOTON/O.Q. 392078' 'SOTON/O.Q. 392087' 'SOTON/O2 3101272'\n",
      " 'SOTON/O2 3101287' 'SOTON/OQ 3101316' 'SOTON/OQ 3101317'\n",
      " 'SOTON/OQ 392076' 'SOTON/OQ 392082' 'SOTON/OQ 392086' 'SOTON/OQ 392089'\n",
      " 'SOTON/OQ 392090' 'STON/O 2. 3101269' 'STON/O 2. 3101273'\n",
      " 'STON/O 2. 3101274' 'STON/O 2. 3101275' 'STON/O 2. 3101280'\n",
      " 'STON/O 2. 3101285' 'STON/O 2. 3101286' 'STON/O 2. 3101288'\n",
      " 'STON/O 2. 3101289' 'STON/O 2. 3101292' 'STON/O 2. 3101293'\n",
      " 'STON/O 2. 3101294' 'STON/O2. 3101271' 'STON/O2. 3101279'\n",
      " 'STON/O2. 3101282' 'STON/O2. 3101283' 'STON/O2. 3101290' 'SW/PP 751'\n",
      " 'W./C. 14258' 'W./C. 14263' 'W./C. 6607' 'W./C. 6608' 'W./C. 6609'\n",
      " 'W.E.P. 5734' 'W/C 14208' 'WE/P 5735']\n",
      "\n",
      "colname : Cabin, uniq : ['A10' 'A14' 'A16' 'A19' 'A20' 'A23' 'A24' 'A26' 'A31' 'A32' 'A34' 'A36'\n",
      " 'A5' 'A6' 'A7' 'B101' 'B102' 'B18' 'B19' 'B20' 'B22' 'B28' 'B3' 'B30'\n",
      " 'B35' 'B37' 'B38' 'B39' 'B4' 'B41' 'B42' 'B49' 'B5' 'B50' 'B51 B53 B55'\n",
      " 'B57 B59 B63 B66' 'B58 B60' 'B69' 'B71' 'B73' 'B77' 'B78' 'B79' 'B80'\n",
      " 'B82 B84' 'B86' 'B94' 'B96 B98' 'C101' 'C103' 'C104' 'C106' 'C110' 'C111'\n",
      " 'C118' 'C123' 'C124' 'C125' 'C126' 'C128' 'C148' 'C2' 'C22 C26'\n",
      " 'C23 C25 C27' 'C30' 'C32' 'C45' 'C46' 'C47' 'C49' 'C50' 'C52' 'C54'\n",
      " 'C62 C64' 'C65' 'C68' 'C7' 'C70' 'C78' 'C82' 'C83' 'C85' 'C86' 'C87'\n",
      " 'C90' 'C91' 'C92' 'C93' 'C95' 'C99' 'D' 'D10 D12' 'D11' 'D15' 'D17' 'D19'\n",
      " 'D20' 'D21' 'D26' 'D28' 'D30' 'D33' 'D35' 'D36' 'D37' 'D45' 'D46' 'D47'\n",
      " 'D48' 'D49' 'D50' 'D56' 'D6' 'D7' 'D9' 'E10' 'E101' 'E12' 'E121' 'E17'\n",
      " 'E24' 'E25' 'E31' 'E33' 'E34' 'E36' 'E38' 'E40' 'E44' 'E46' 'E49' 'E50'\n",
      " 'E58' 'E63' 'E67' 'E68' 'E77' 'E8' 'F E69' 'F G63' 'F G73' 'F2' 'F33'\n",
      " 'F38' 'F4' 'G6' 'T' 'nan']\n",
      "\n",
      "colname : Embarked, uniq : ['C' 'Q' 'S' 'nan']\n",
      "\n"
     ]
    }
   ],
   "source": [
    "for col in cat_cols:\n",
    "    uniq = np.unique(train[col].astype(str))\n",
    "    print(\"colname : {}, uniq : {}\".format(col, uniq), end=\"\\n\\n\")"
   ]
  },
  {
   "cell_type": "markdown",
   "metadata": {},
   "source": [
    "### 생존자 사망자의 비율이 얼마나 될까?"
   ]
  },
  {
   "cell_type": "code",
   "execution_count": 15,
   "metadata": {},
   "outputs": [
    {
     "data": {
      "text/plain": [
       "<matplotlib.axes._subplots.AxesSubplot at 0x204202019a0>"
      ]
     },
     "execution_count": 15,
     "metadata": {},
     "output_type": "execute_result"
    },
    {
     "data": {
      "image/png": "[encoded data removed]",
      "text/plain": [
       "<Figure size 432x288 with 1 Axes>"
      ]
     },
     "metadata": {},
     "output_type": "display_data"
    }
   ],
   "source": [
    "sns.set_style('whitegrid')   # seaborn 스타일 지정\n",
    "sns.countplot(x='Survived', data=train)"
   ]
  },
  {
   "cell_type": "code",
   "execution_count": 16,
   "metadata": {},
   "outputs": [
    {
     "data": {
      "text/plain": [
       "<matplotlib.axes._subplots.AxesSubplot at 0x20420283b80>"
      ]
     },
     "execution_count": 16,
     "metadata": {},
     "output_type": "execute_result"
    },
    {
     "data": {
      "image/png": "[encoded data removed]",
      "text/plain": [
       "<Figure size 432x288 with 1 Axes>"
      ]
     },
     "metadata": {},
     "output_type": "display_data"
    }
   ],
   "source": [
    "## 해보기 : PClass 별 Count\n",
    "sns.countplot(x='Pclass', data=train)"
   ]
  },
  {
   "cell_type": "markdown",
   "metadata": {},
   "source": [
    "### 나이에 대해 살펴보자"
   ]
  },
  {
   "cell_type": "code",
   "execution_count": 17,
   "metadata": {},
   "outputs": [
    {
     "data": {
      "text/plain": [
       "(0.0, 96.421405713925)"
      ]
     },
     "execution_count": 17,
     "metadata": {},
     "output_type": "execute_result"
    },
    {
     "data": {
      "image/png": "[encoded data removed]",
      "text/plain": [
       "<Figure size 432x288 with 1 Axes>"
      ]
     },
     "metadata": {},
     "output_type": "display_data"
    }
   ],
   "source": [
    "sns.distplot(train['Age'].dropna(), bins=30).set_xlim(0,)"
   ]
  },
  {
   "cell_type": "code",
   "execution_count": 18,
   "metadata": {},
   "outputs": [
    {
     "data": {
      "text/plain": [
       "(0.0, 94.39452533506775)"
      ]
     },
     "execution_count": 18,
     "metadata": {},
     "output_type": "execute_result"
    },
    {
     "data": {
      "image/png": "[encoded data removed]",
      "text/plain": [
       "<Figure size 432x288 with 1 Axes>"
      ]
     },
     "metadata": {},
     "output_type": "display_data"
    }
   ],
   "source": [
    "## 해보기 Fare\n",
    "sns.distplot(test['Age'].dropna(), bins=30).set_xlim(0,)"
   ]
  },
  {
   "cell_type": "markdown",
   "metadata": {},
   "source": [
    "* plt.subplots(행, 열, figsize=(크기지정))"
   ]
  },
  {
   "cell_type": "code",
   "execution_count": 19,
   "metadata": {},
   "outputs": [
    {
     "data": {
      "image/png": "[encoded data removed]",
      "text/plain": [
       "<Figure size 1296x576 with 2 Axes>"
      ]
     },
     "metadata": {},
     "output_type": "display_data"
    }
   ],
   "source": [
    "f,ax=plt.subplots(1,2,figsize=(18,8))\n",
    "\n",
    "# 첫번째 그래프\n",
    "sns.distplot(train['Age'].dropna(), bins=30, ax=ax[0])\n",
    "ax[0].set_title('train - Age')\n",
    "\n",
    "# 두번째 그래프 \n",
    "sns.distplot(train['Age'].dropna(), bins=30, ax=ax[1])\n",
    "ax[1].set_title('test - Age')\n",
    "plt.show()"
   ]
  },
  {
   "cell_type": "markdown",
   "metadata": {},
   "source": [
    "### 결측치 처리 첫번째\n",
    " * 나이는 평균값으로 처리하자.\n",
    " * 결측치 값을 채우기 -  usage : data['열이름'].fillna(값)"
   ]
  },
  {
   "cell_type": "code",
   "execution_count": 20,
   "metadata": {},
   "outputs": [],
   "source": [
    "train['Age'] = train['Age'].fillna(train['Age'].mean())\n",
    "test['Age'] = test['Age'].fillna(test['Age'].mean())"
   ]
  },
  {
   "cell_type": "code",
   "execution_count": 21,
   "metadata": {},
   "outputs": [],
   "source": [
    "## 해보기 \n",
    "test['Fare'] = test['Fare'].fillna(test['Fare'].mean())"
   ]
  },
  {
   "cell_type": "code",
   "execution_count": 22,
   "metadata": {},
   "outputs": [
    {
     "name": "stdout",
     "output_type": "stream",
     "text": [
      "PassengerId      0\n",
      "Survived         0\n",
      "Pclass           0\n",
      "Name             0\n",
      "Sex              0\n",
      "Age              0\n",
      "SibSp            0\n",
      "Parch            0\n",
      "Ticket           0\n",
      "Fare             0\n",
      "Cabin          687\n",
      "Embarked         2\n",
      "dtype: int64\n",
      "PassengerId      0\n",
      "Pclass           0\n",
      "Name             0\n",
      "Sex              0\n",
      "Age              0\n",
      "SibSp            0\n",
      "Parch            0\n",
      "Ticket           0\n",
      "Fare             0\n",
      "Cabin          327\n",
      "Embarked         0\n",
      "dtype: int64\n"
     ]
    }
   ],
   "source": [
    "print(train.isnull().sum())\n",
    "print(test.isnull().sum())"
   ]
  },
  {
   "cell_type": "markdown",
   "metadata": {},
   "source": [
    "### 결측치 처리 두번째 Embarked(승선항)\n",
    " * 가장 많이 나온 값으로 결측치 처리를 하자\n",
    " * 범주(구분,종류)별 데이터 개수 => [Syntax] 데이터셋명['컬럼명'].value_counts() "
   ]
  },
  {
   "cell_type": "code",
   "execution_count": 23,
   "metadata": {},
   "outputs": [
    {
     "data": {
      "text/plain": [
       "S    644\n",
       "C    168\n",
       "Q     77\n",
       "Name: Embarked, dtype: int64"
      ]
     },
     "execution_count": 23,
     "metadata": {},
     "output_type": "execute_result"
    }
   ],
   "source": [
    "val_Embarked = train['Embarked'].value_counts() \n",
    "val_Embarked"
   ]
  },
  {
   "cell_type": "code",
   "execution_count": 24,
   "metadata": {},
   "outputs": [
    {
     "data": {
      "text/plain": [
       "'S'"
      ]
     },
     "execution_count": 24,
     "metadata": {},
     "output_type": "execute_result"
    }
   ],
   "source": [
    "val_Embarked.index[0]   #  행 이름 첫번째"
   ]
  },
  {
   "cell_type": "code",
   "execution_count": 25,
   "metadata": {},
   "outputs": [],
   "source": [
    "train['Embarked'] = train['Embarked'].fillna('S')"
   ]
  },
  {
   "cell_type": "code",
   "execution_count": 26,
   "metadata": {},
   "outputs": [
    {
     "name": "stdout",
     "output_type": "stream",
     "text": [
      "PassengerId      0\n",
      "Survived         0\n",
      "Pclass           0\n",
      "Name             0\n",
      "Sex              0\n",
      "Age              0\n",
      "SibSp            0\n",
      "Parch            0\n",
      "Ticket           0\n",
      "Fare             0\n",
      "Cabin          687\n",
      "Embarked         0\n",
      "dtype: int64\n",
      "PassengerId      0\n",
      "Pclass           0\n",
      "Name             0\n",
      "Sex              0\n",
      "Age              0\n",
      "SibSp            0\n",
      "Parch            0\n",
      "Ticket           0\n",
      "Fare             0\n",
      "Cabin          327\n",
      "Embarked         0\n",
      "dtype: int64\n"
     ]
    }
   ],
   "source": [
    "print(train.isnull().sum())\n",
    "print(test.isnull().sum())"
   ]
  },
  {
   "cell_type": "markdown",
   "metadata": {},
   "source": [
    "### 데이터 전처리"
   ]
  },
  {
   "cell_type": "code",
   "execution_count": 27,
   "metadata": {},
   "outputs": [
    {
     "name": "stdout",
     "output_type": "stream",
     "text": [
      "<class 'pandas.core.frame.DataFrame'>\n",
      "RangeIndex: 891 entries, 0 to 890\n",
      "Data columns (total 12 columns):\n",
      " #   Column       Non-Null Count  Dtype  \n",
      "---  ------       --------------  -----  \n",
      " 0   PassengerId  891 non-null    int64  \n",
      " 1   Survived     891 non-null    int64  \n",
      " 2   Pclass       891 non-null    int64  \n",
      " 3   Name         891 non-null    object \n",
      " 4   Sex          891 non-null    object \n",
      " 5   Age          891 non-null    float64\n",
      " 6   SibSp        891 non-null    int64  \n",
      " 7   Parch        891 non-null    int64  \n",
      " 8   Ticket       891 non-null    object \n",
      " 9   Fare         891 non-null    float64\n",
      " 10  Cabin        204 non-null    object \n",
      " 11  Embarked     891 non-null    object \n",
      "dtypes: float64(2), int64(5), object(5)\n",
      "memory usage: 83.7+ KB\n"
     ]
    }
   ],
   "source": [
    "train.info()"
   ]
  },
  {
   "cell_type": "code",
   "execution_count": 28,
   "metadata": {},
   "outputs": [
    {
     "name": "stdout",
     "output_type": "stream",
     "text": [
      "male      577\n",
      "female    314\n",
      "Name: Sex, dtype: int64\n",
      "S    646\n",
      "C    168\n",
      "Q     77\n",
      "Name: Embarked, dtype: int64\n"
     ]
    }
   ],
   "source": [
    "print( train['Sex'].value_counts() )\n",
    "print( train['Embarked'].value_counts() )"
   ]
  },
  {
   "cell_type": "markdown",
   "metadata": {},
   "source": [
    " * 데이터 자료형 변환\n",
    " * 데이터.astype(변환될 자료형명)"
   ]
  },
  {
   "cell_type": "code",
   "execution_count": 29,
   "metadata": {},
   "outputs": [],
   "source": [
    "train['Sex'] = train['Sex'].map( {'female': 0, 'male': 1} ).astype(int)\n",
    "test['Sex'] = test['Sex'].map( {'female': 0, 'male': 1} ).astype(int)\n",
    "\n",
    "train['Embarked'] = train['Embarked'].map( {'S': 0, 'C': 1, 'Q': 2} ).astype(int)\n",
    "test['Embarked']= test['Embarked'].map( {'S': 0, 'C': 1, 'Q': 2} ).astype(int)"
   ]
  },
  {
   "cell_type": "code",
   "execution_count": 30,
   "metadata": {},
   "outputs": [],
   "source": [
    "## 나이에 대한 int 처리\n",
    "train['Age'] = train['Age'].astype('int')\n",
    "test['Age'] = test['Age'].astype('int')"
   ]
  },
  {
   "cell_type": "code",
   "execution_count": 31,
   "metadata": {},
   "outputs": [
    {
     "name": "stdout",
     "output_type": "stream",
     "text": [
      "Index(['PassengerId', 'Survived', 'Pclass', 'Name', 'Sex', 'Age', 'SibSp',\n",
      "       'Parch', 'Ticket', 'Fare', 'Cabin', 'Embarked'],\n",
      "      dtype='object')\n",
      "<class 'pandas.core.frame.DataFrame'>\n",
      "RangeIndex: 891 entries, 0 to 890\n",
      "Data columns (total 12 columns):\n",
      " #   Column       Non-Null Count  Dtype  \n",
      "---  ------       --------------  -----  \n",
      " 0   PassengerId  891 non-null    int64  \n",
      " 1   Survived     891 non-null    int64  \n",
      " 2   Pclass       891 non-null    int64  \n",
      " 3   Name         891 non-null    object \n",
      " 4   Sex          891 non-null    int32  \n",
      " 5   Age          891 non-null    int32  \n",
      " 6   SibSp        891 non-null    int64  \n",
      " 7   Parch        891 non-null    int64  \n",
      " 8   Ticket       891 non-null    object \n",
      " 9   Fare         891 non-null    float64\n",
      " 10  Cabin        204 non-null    object \n",
      " 11  Embarked     891 non-null    int32  \n",
      "dtypes: float64(1), int32(3), int64(5), object(3)\n",
      "memory usage: 73.2+ KB\n",
      "None\n"
     ]
    }
   ],
   "source": [
    "print(train.columns)\n",
    "print(train.info())"
   ]
  },
  {
   "cell_type": "code",
   "execution_count": 32,
   "metadata": {},
   "outputs": [],
   "source": [
    "# 'Name', 'Ticket' =>  문자포함\n",
    "sel = ['PassengerId', 'Pclass', 'Sex', 'Age', 'SibSp', 'SibSp','Parch', 'Embarked' ]\n",
    "\n",
    "# 학습에 사용될 데이터 준비 X_train, y_train\n",
    "X_train = train[sel]\n",
    "y_train = train['Survived']\n",
    "X_test = test[sel]"
   ]
  },
  {
   "cell_type": "markdown",
   "metadata": {},
   "source": [
    "## 컬럼과 컬럼 사이의 관계 확인(상관계수 Heatmap)"
   ]
  },
  {
   "cell_type": "code",
   "execution_count": 33,
   "metadata": {},
   "outputs": [
    {
     "data": {
      "text/plain": [
       "<matplotlib.axes._subplots.AxesSubplot at 0x20420849190>"
      ]
     },
     "execution_count": 33,
     "metadata": {},
     "output_type": "execute_result"
    },
    {
     "data": {
      "image/png": "[encoded data removed]",
      "text/plain": [
       "<Figure size 1008x864 with 2 Axes>"
      ]
     },
     "metadata": {},
     "output_type": "display_data"
    }
   ],
   "source": [
    "colormap = plt.cm.RdBu\n",
    "plt.figure(figsize=(14, 12))\n",
    "plt.title('Pearson Correlation of Features', y=1.05, size=15)\n",
    "sns.heatmap(train.corr(), linewidths=0.1, vmax=1.0,\n",
    "           square=True, cmap=colormap, linecolor='white', annot=True, annot_kws={\"size\": 16})"
   ]
  },
  {
   "cell_type": "code",
   "execution_count": 34,
   "metadata": {},
   "outputs": [
    {
     "data": {
      "image/png": "[encoded data removed]",
      "text/plain": [
       "<Figure size 1008x864 with 2 Axes>"
      ]
     },
     "metadata": {},
     "output_type": "display_data"
    }
   ],
   "source": [
    "#correlation heatmap of dataset\n",
    "def correlation_heatmap(df):\n",
    "    _ , ax = plt.subplots(figsize =(14, 12))\n",
    "    colormap = sns.diverging_palette(220, 10, as_cmap = True)\n",
    "    \n",
    "    _ = sns.heatmap(\n",
    "        df.corr(), \n",
    "        cmap = colormap,\n",
    "        square=True, \n",
    "        cbar_kws={'shrink':.9 }, \n",
    "        ax=ax,\n",
    "        annot=True, \n",
    "        linewidths=0.1,vmax=1.0, linecolor='white',\n",
    "        annot_kws={'fontsize':12 }\n",
    "    )\n",
    "    \n",
    "    plt.title('Pearson Correlation of Features', y=1.05, size=15)\n",
    "\n",
    "correlation_heatmap(train)"
   ]
  },
  {
   "cell_type": "markdown",
   "metadata": {},
   "source": [
    "## 2-3 의사결정 트리 모델 만들고 제출해 보기\n",
    " * 모델을 생성 후, 학습\n",
    " * 그리고 예측을 수행 후, 제출한다."
   ]
  },
  {
   "cell_type": "code",
   "execution_count": 35,
   "metadata": {},
   "outputs": [
    {
     "name": "stdout",
     "output_type": "stream",
     "text": [
      "Index(['PassengerId', 'Pclass', 'Sex', 'Age', 'SibSp', 'SibSp', 'Parch',\n",
      "       'Embarked'],\n",
      "      dtype='object')\n",
      "Index(['PassengerId', 'Pclass', 'Sex', 'Age', 'SibSp', 'SibSp', 'Parch',\n",
      "       'Embarked'],\n",
      "      dtype='object')\n"
     ]
    }
   ],
   "source": [
    "print(X_train.columns)\n",
    "print(X_test.columns)"
   ]
  },
  {
   "cell_type": "code",
   "execution_count": 36,
   "metadata": {},
   "outputs": [
    {
     "data": {
      "text/plain": [
       "DecisionTreeClassifier()"
      ]
     },
     "execution_count": 36,
     "metadata": {},
     "output_type": "execute_result"
    }
   ],
   "source": [
    "from sklearn.tree import DecisionTreeClassifier\n",
    "decisiontree = DecisionTreeClassifier()\n",
    "decisiontree.fit(X_train, y_train)"
   ]
  },
  {
   "cell_type": "code",
   "execution_count": 37,
   "metadata": {},
   "outputs": [
    {
     "data": {
      "text/plain": [
       "array([0, 0, 0, 1, 1, 0, 0, 0, 1, 0, 0, 1, 1, 0, 1], dtype=int64)"
      ]
     },
     "execution_count": 37,
     "metadata": {},
     "output_type": "execute_result"
    }
   ],
   "source": [
    "# 예측\n",
    "predictions = decisiontree.predict(X_test)\n",
    "predictions[:15]"
   ]
  },
  {
   "cell_type": "code",
   "execution_count": 38,
   "metadata": {},
   "outputs": [],
   "source": [
    "test_passengerId = test['PassengerId']\n",
    "pred = predictions.astype(int)\n",
    "df_pred = pd.DataFrame({'PassengerID':test_passengerId, 'Survived':pred})\n",
    "df_pred.to_csv(\"decision_first_model.csv\", index=False)"
   ]
  },
  {
   "cell_type": "markdown",
   "metadata": {},
   "source": [
    "## 2-3 의사결정 트리 모델 - 'Fare'변수 추가\n",
    " * 모델을 생성 후, 학습\n",
    " * 그리고 예측을 수행 후, 제출한다."
   ]
  },
  {
   "cell_type": "code",
   "execution_count": 39,
   "metadata": {},
   "outputs": [],
   "source": [
    "# 'Name', 'Ticket' =>  문자포함\n",
    "sel = ['PassengerId', 'Pclass', 'Sex', 'Age', 'SibSp', 'SibSp','Parch', 'Embarked', 'Fare' ]\n",
    "\n",
    "# 학습에 사용될 데이터 준비 X_train, y_train\n",
    "X_train = train[sel]\n",
    "y_train = train['Survived']\n",
    "X_test = test[sel]"
   ]
  },
  {
   "cell_type": "code",
   "execution_count": 40,
   "metadata": {},
   "outputs": [
    {
     "data": {
      "text/plain": [
       "array([0, 0, 0, 0, 0, 0, 1, 0, 1, 0, 0, 0, 1, 0, 1], dtype=int64)"
      ]
     },
     "execution_count": 40,
     "metadata": {},
     "output_type": "execute_result"
    }
   ],
   "source": [
    "from sklearn.tree import DecisionTreeClassifier\n",
    "decisiontree = DecisionTreeClassifier()\n",
    "decisiontree.fit(X_train, y_train)\n",
    "# 예측\n",
    "predictions = decisiontree.predict(X_test)\n",
    "predictions[:15]"
   ]
  },
  {
   "cell_type": "code",
   "execution_count": 41,
   "metadata": {},
   "outputs": [],
   "source": [
    "test_passengerId = test['PassengerId']\n",
    "pred = predictions.astype(int)\n",
    "df_pred = pd.DataFrame({'PassengerID':test_passengerId, 'Survived':pred})\n",
    "df_pred.to_csv(\"decision_second_model.csv\", index=False)"
   ]
  },
  {
   "cell_type": "markdown",
   "metadata": {},
   "source": [
    "## 직접 실습 해보기 : Logistic 회귀 모델 만들기"
   ]
  },
  {
   "cell_type": "code",
   "execution_count": 42,
   "metadata": {},
   "outputs": [],
   "source": [
    "from sklearn.linear_model import LogisticRegression"
   ]
  },
  {
   "cell_type": "code",
   "execution_count": 43,
   "metadata": {},
   "outputs": [
    {
     "name": "stderr",
     "output_type": "stream",
     "text": [
      "C:\\ProgramData\\Anaconda3\\lib\\site-packages\\sklearn\\linear_model\\_logistic.py:762: ConvergenceWarning: lbfgs failed to converge (status=1):\n",
      "STOP: TOTAL NO. of ITERATIONS REACHED LIMIT.\n",
      "\n",
      "Increase the number of iterations (max_iter) or scale the data as shown in:\n",
      "    https://scikit-learn.org/stable/modules/preprocessing.html\n",
      "Please also refer to the documentation for alternative solver options:\n",
      "    https://scikit-learn.org/stable/modules/linear_model.html#logistic-regression\n",
      "  n_iter_i = _check_optimize_result(\n"
     ]
    },
    {
     "data": {
      "text/plain": [
       "array([0, 1, 0, 0, 1, 0, 1, 0, 1, 0, 0, 0, 1, 0, 1], dtype=int64)"
      ]
     },
     "execution_count": 43,
     "metadata": {},
     "output_type": "execute_result"
    }
   ],
   "source": [
    "model = LogisticRegression()\n",
    "# 학습\n",
    "model.fit(X_train, y_train)\n",
    "# 예측\n",
    "predictions = model.predict(X_test)\n",
    "predictions[:15]"
   ]
  },
  {
   "cell_type": "code",
   "execution_count": 44,
   "metadata": {},
   "outputs": [],
   "source": [
    "test_passengerId = test['PassengerId']\n",
    "pred = predictions.astype(int)\n",
    "df_pred = pd.DataFrame({'PassengerID':test_passengerId, 'Survived':pred})\n",
    "df_pred.to_csv(\"logistic_second_model.csv\", index=False)  "
   ]
  },
  {
   "cell_type": "markdown",
   "metadata": {},
   "source": [
    "### REF\n",
    "seaborn heatmap cmap : https://pod.hatenablog.com/entry/2018/09/20/212527 <br>\n",
    "seaborn set_style : https://www.codecademy.com/articles/seaborn-design-i"
   ]
  },
  {
   "cell_type": "code",
   "execution_count": null,
   "metadata": {},
   "outputs": [],
   "source": []
  }
 ],
 "metadata": {
  "kernelspec": {
   "display_name": "Python 3",
   "language": "python",
   "name": "python3"
  },
  "language_info": {
   "codemirror_mode": {
    "name": "ipython",
    "version": 3
   },
   "file_extension": ".py",
   "mimetype": "text/x-python",
   "name": "python",
   "nbconvert_exporter": "python",
   "pygments_lexer": "ipython3",
   "version": "3.8.3"
  }
 },
 "nbformat": 4,
 "nbformat_minor": 2
}
